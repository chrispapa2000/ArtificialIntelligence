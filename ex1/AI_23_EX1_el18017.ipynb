{
 "cells": [
  {
   "cell_type": "markdown",
   "metadata": {
    "id": "CCcGFAb8nULW"
   },
   "source": [
    "# Τεχνητή Νοημοσύνη: Εργαστηριακή Άσκηση 1\n",
    "\n",
    "    \n",
    "\n",
    "---\n",
    "\n",
    "\n",
    "\n",
    "Ο στόχος της εργασίας είναι η εφαρμογή αλγορίθμων αναζήτησης και εύρεσης καλύτερου μονοπατιού σε λαβύρινθο διαστάσεων $N\\times N$\n"
   ]
  },
  {
   "cell_type": "markdown",
   "metadata": {
    "id": "PPcLy1P7naLP"
   },
   "source": [
    "# Εκφώνηση\n",
    "\n",
    "## Μέρος 1\n",
    "Ο στόχος του πρώτου μέρους είναι η κατασκευή **λαβυρίνθων**. [Σε αυτό το άρθρο της Wikipedia](https://en.wikipedia.org/wiki/Maze_generation_algorithm) μπορείτε να βρείτε διάφορους αλγορίθμους για αυτό το σκοπό, συμπεριλαμβανομένου κι αυτού που χρησιμοποιείται παρακάτω. Προσέξτε ότι οι αλγόριθμοι του παραπάνω άρθρου κατασκευάζουν ένα μόνο μονοπάτι από κάθε σημείο του λαβυρίνθου προς οποιοδήποτε άλλο (η δομή του λαβυρίνθου έχει μορφή συνεκτικού δέντρου). Καλείστε να συμπληρώσετε τον κώδικα στα σημεία που λείπει ώστε οι λαβύρινθοι που κατασκευάζει τυχαία να έχουν μεταβλητή πυκνότητα εμποδίων/τοίχων (καθορίζεται από την παράμετρο threshold). Όλοι οι χάρτες θα πρέπει να έχουν τουλάχιστον ένα μονοπάτι μεταξύ ενός σημείου αφετηρίας (S) και ενός σημείου τερματισμού (F). \n",
    "\n",
    "Σε όλα τα ερωτήματα φροντίστε να χρησιμοποιήσετε **δομημένο** κώδικα, με **σχόλια** που επισημαίνουν τη λογική του.\n",
    "\n",
    "\n",
    "### Παραδείγματα λαβυρίνθων\n",
    "![index1.png](data:image/png;base64,iVBORw0KGgoAAAANSUhEUgAAAOsAAADrCAYAAACICmHVAAAABHNCSVQICAgIfAhkiAAAAAlwSFlzAAALEgAACxIB0t1+/AAAADh0RVh0U29mdHdhcmUAbWF0cGxvdGxpYiB2ZXJzaW9uMy4yLjIsIGh0dHA6Ly9tYXRwbG90bGliLm9yZy+WH4yJAAADhUlEQVR4nO3dwW0UMQCGURvRB0VsBXRBi+mCCuiBOz0MlxyDYJF3x9/se8ckGo3W+uRIkf7M4zgGsL9PZ78A8G/EChFihQixQoRYIUKsEPH5nh+ec/o7DzzYcRzzo6+7WSFCrBAhVogQK0SIFSLEChFihQixQoRYIUKsECFWiBArRIgVIsQKEWKFCLFChFghQqwQcdesy2o7/zeA29vXpc/78e370uft/Nm9mjk/XGFZzs0KEWKFCLFChFghQqwQIVaIECtEiBUixAoRYoUIsUKEWCFCrBAhVogQK0SIFSLEChFihQixQsSpG0yrPWsL54pe6bOr7le5WSFCrBAhVogQK0SIFSLEChFihQixQoRYIUKsECFWiBArRIgVIsQKEWKFCLFChFghQqwQcalZl53nOl5pNmWMvc+iys0KEWKFCLFChFghQqwQIVaIECtEiBUixAoRYoUIsUKEWCFCrBAhVogQK0SIFSLEChFihQixQsSlNphW7hzZENqLs3WzQoZYIUKsECFWiBArRIgVIsQKEWKFCLFChFghQqwQIVaIECtEiBUixAoRYoUIsUKEWCFCrBBxqQ2mnbd1dn63Ap+fmxUyxAoRYoUIsUKEWCFCrBAhVogQK0SIFSLEChFihQixQoRYIUKsECFWiBArRIgVIsQKEWKFiEttMM05z34FHmTl2Vb3nNysECFWiBArRIgVIsQKEWKFCLFChFghQqwQIVaIECtEiBUixAoRYoUIsUKEWCFCrBAhVogQK0RcaoOpuq3D360827fbbdmznsnNChFihQixQoRYIUKsECFWiBArRIgVIsQKEWKFCLFChFghQqwQIVaIECtEiBUixAoRYoUIsULEpTaY5pxnvwLvVu9hOVs3K2SIFSLEChFihQixQoRYIUKsECFWiBArRIgVIsQKEWKFCLFChFghQqwQIVaIECtEiBUiLjXrsnpKhH3sfLbPmpxxs0KEWCFCrBAhVogQK0SIFSLEChFihQixQoRYIUKsECFWiBArRIgVIsQKEWKFCLFChFghQqwQceoG07O2a+AK3KwQIVaIECtEiBUixAoRYoUIsUKEWCFCrBAhVogQK0SIFSLEChFihQixQoRYIUKsECFWiBArRNy7wfRrjPHzES8CjDHG+PKnb8zjOJ75IsB/8mswRIgVIsQKEWKFCLFChFghQqwQIVaIECtE/AZROUHZqFYHAAAAAABJRU5ErkJggg==)\n",
    "![index2.png](data:image/png;base64,iVBORw0KGgoAAAANSUhEUgAAAOsAAADrCAYAAACICmHVAAAABHNCSVQICAgIfAhkiAAAAAlwSFlzAAALEgAACxIB0t1+/AAAADh0RVh0U29mdHdhcmUAbWF0cGxvdGxpYiB2ZXJzaW9uMy4yLjIsIGh0dHA6Ly9tYXRwbG90bGliLm9yZy+WH4yJAAAEvklEQVR4nO3d0W0bRxRA0WWQPlKEKkgXadFduAL3kP/0wPwKiBQu7eHwXeqcz9iIhyNfjIE3u7xcr9cDmO+3Zy8AOEesECFWiBArRIgVIsQKEb/f85svl4s5DzzY9Xq9fPTfnawQIVaIECtEiBUixAoRYoUIsULEXXPWMzxyB5+7XD4coZ7iZIUIsUKEWCFCrBAhVogQK0SIFSKWz1lvOTNnOjOr/ZV51Ve2am9v/X++6s/nkfcMnKwQIVaIECtEiBUixAoRYoUIsUKEWCFi+6WInVYMqN++/Xnz9/z46/vD13FW6TLCrgsaqzx7b52sECFWiBArRIgVIsQKEWKFCLFChFghYuSliF3D52cPud+bNPx/Na+yt05WiBArRIgVIsQKEWKFCLFChFghQqwQsf1SRGH4/N6ur/JYtS9T9nfKOl6JkxUixAoRYoUIsUKEWCFCrBAhVohYPmed9ED3FKv2ZNfM9ww/5/2crBAhVogQK0SIFSLEChFihQixQoRYIWL5pQgPHf/XpD2ZtBbu42SFCLFChFghQqwQIVaIECtEiBUixAoR29/Iv/MNA7cuAEx624G1cIuTFSLEChFihQixQoRYIUKsECFWiMh+8/muWeCkh7Wt5ee8ytzYyQoRYoUIsUKEWCFCrBAhVogQK0SIFSKWX4pYMYAuDdyPY9bQfcpazqzjzM95yueZwMkKEWKFCLFChFghQqwQIVaIECtEiBUill+KqF1o2GHSnkxayxkr1rvqYsWz987JChFihQixQoRYIUKsECFWiBArRIgVIrZ/fcaqNwiUTBrKT3rzwivuyyP/7jpZIUKsECFWiBArRIgVIsQKEWKFiO1z1kl2zXMnzY0nrWWSwr44WSFCrBAhVogQK0SIFSLEChFihQixQsSXvhTxig9irzBpLZM8e1+crBAhVogQK0SIFSLEChFihQixQoRYIWL7pYhJT+RPWssZpTdbfMVvXjiO25/pVy5WOFkhQqwQIVaIECtEiBUixAoRYoUIsULE9ksRz37a/r1Ja1ll12fadaFhxeWKV7mg4WSFCLFChFghQqwQIVaIECtEiBUiRr6Rv/SQ9SqvNh9dZcV6a5/5M05WiBArRIgVIsQKEWKFCLFChFghQqwQMfJSxBmTLhHcWsuqofyuzzzpofxJa3k2JytEiBUixAoRYoUIsUKEWCFCrBAhVojYfili51P7j/zK+NUmXZyovVmhtt6f5WSFCLFChFghQqwQIVaIECtEiBUivvQ3n++y6jOvmCfuWsvObxuf9HfqkTNfJytEiBUixAoRYoUIsUKEWCFCrBAhVogY+Ub+XQ8Tr/pzSpcVanbtbWHfnKwQIVaIECtEiBUixAoRYoUIsUKEWCFi5KWISW8z2LGOsya9EWGF2kWQZ1+ucLJChFghQqwQIVaIECtEiBUixAoRYoWI7ZciJj2RP+mywqR9qfn29va/v/4qe+tkhQixQoRYIUKsECFWiBArRIgVIi73zKAul8trDKxgsOv1+uHg3skKEWKFCLFChFghQqwQIVaIECtEiBUi7n34/J/jOP5+xEKA4ziO44/PfuGuG0zA8/hnMESIFSLEChFihQixQoRYIUKsECFWiBArRPwLUNQF44aEdWwAAAAASUVORK5CYII=)\n",
    "![index3.png](data:image/png;base64,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)"
   ]
  },
  {
   "cell_type": "markdown",
   "metadata": {
    "id": "hrKnkVsr61N-"
   },
   "source": [
    "## Μέρος 2\n",
    "\n",
    "Στο δεύτερο μέρος της εργασίας καλείστε να υλοποιήσετε διάφορους αλγορίθμους εύρεσης συντομότερων μονοπατιών μεταξύ δυο κόμβων για τους λαβυρίνθους που παράγονται από τον κώδικα του πρώτου μέρους. Παράλληλα καλείστε να κατασκευάσετε και διάφορες συναρτήσεις κόστους τόσο για την μέτρηση των πραγματικών αποστάσεων όσο και για την εκτίμηση των αποστάσεων από έναν κόμβο στον κόμβο στόχο (heuristic). Επίσης μπορείτε να πειραματιστείτε με οποιαδήποτε από τις παραμέτρους κάθε αλγορίθμου με σκοπό να μελετήσετε το πώς οι αλλαγές αυτές επηρεάζουν την πολυπλοκότητα, τον χρόνο καθώς και βέλτιστο μονοπάτι. Οι παραπάνω αλγόριθμοι καθώς και οι παραλλαγές τους θα τρέξουν σε λαβυρίνθους με διαφορετικά μεγέθη. Υλοποιήστε τους αλγορίθμους στο κελί κώδικα του Μέρους 2.<br>\n",
    "\n",
    "Η γενική μορφή της συνάρτησης κόστους στον αλγόριθμο Α* είναι:\n",
    "$$f(n)=g(n)+h(n)$$\n",
    "Παραπάνω, η συνάρτηση $g(n)$ δίνει την πραγματική απόσταση από το σημείο εκκίνησης μέχρι τον κόμβο $n$, και η συνάρτηση $h(n)$ αποτελεί μια ευριστική της απόστασης από τον κόμβο $n$ μέχρι τον στόχο. Σας ζητείται να πειραματιστείτε με τις εξής επιλογές για τις δύο συναρτήσεις:\n",
    "* $g(n)=0$ και $h(n)=\\{\\text{manhattan}(n),\\text{euclidean}(n)\\}$. Ποιος αλγόριθμος αναζήτησης προκύπτει; Μπορεί να βρει πάντα το βέλτιστο μονοπάτι;\n",
    "* $g(n)=1$ και $h(n)=0$. Ποιος αλγόριθμος αναζήτησης προκύπτει; Μπορεί να βρει πάντα το βέλτιστο μονοπάτι;\n",
    "* $g(n)=1$ και $h(n)=\\{\\text{manhattan}(n),\\text{euclidean}(n)\\}$. Ποιος αλγόριθμος αναζήτησης προκύπτει; Μπορεί να βρει πάντα το βέλτιστο μονοπάτι;\n",
    "\n",
    "Μπορείτε να προτείνετε και άλλες ευριστικές συναρτήσεις εκτός από τις αποστάσεις manhattan και euclidean;"
   ]
  },
  {
   "cell_type": "markdown",
   "metadata": {
    "id": "HBVzpYPF9WC_"
   },
   "source": [
    "## Μέρος 3\n",
    "\n",
    "Στο τρίτο μέρος καλείστε να υλοποιήσετε μια συγκριτική μελέτη των αλγορίθμων που κατασκευάσατε στο Μέρος 2 με σκοπό να καταλήξετε σε ορισμένα συμπεράσματα. Οι αλγόριθμοι θα συγκρίνονται με βάση την πολυπλοκότητά τους και το κατά πόσο μπορούν να βρούν το βέλτιστο μονοπάτι. \n",
    " \n",
    "Για να κρίνουμε τον τρόπο με τον οποίο το μέγεθος του λαβύρινθου επηρεάζει τους αλγορίθμους, κατασκευάζουμε χάρτες με διάσταση $N=[10,20,\\ldots,100]$. Για κάθε παραμετροποίηση προτείνεται να κατασκευάζετε 100 διαφορετικούς χάρτες, στους οποίους θα εκτελείτε τους παραπάνω αλγορίθμους.\n",
    " \n",
    "Έπειτα, ζητείται να συλλέξετε τα εξής χαρακτηριστικά:\n",
    " * το μήκος του ελάχιστου μονοπατιού που εξάγει ο εκάστοτε αλγόριθμος.\n",
    " * το πλήθος των επεκτεταμένων κόμβων (expanded nodes) του κάθε αλγορίθμου, που αποτελεί μέτρο της πολυπλοκότητάς του.\n",
    " \n",
    " Για να σας είναι εύκολο να εξάγετε συμπεράσματα από τις παραπάνω παραμετροποιήσεις, ζητείται να κατασκευάσετε δύο γραφικές παραστάσεις:\n",
    " * το μήκος του ελάχιστου μονοπατιού συναρτήσει του μεγέθους του χάρτη\n",
    " * το πλήθος των expanded nodes συναρτήσει του μεγέθους του χάρτη\n",
    "\n",
    "\n",
    "\n",
    " Σας ζητείται σχολιάσετε τις παραπάνω γραφικές παραστάσεις, και συγκεκριμένα το πώς μεταβάλλεται η συμπεριφορά των αλγορίθμων συναρτήσει του $N$.\n",
    " \n",
    " Σημειώνουμε τα παρακάτω:\n",
    " \n",
    " * Σε όλα τα παραπάνω πειράματα μπορείτε να λάβετε σαν σημείο εκκίνησης το $(1,1)$ και σαν σημείο τερματισμού το $(N-2,N-2)$. Εναλλακτικά, μπορείτε να πειραματισθείτε με τυχαία σημεία εκκινησης και τερματισμού.\n",
    " * Αν και οι χάρτες παράγονται τυχαία, η εκτέλεση αλγορίθμων σε διαφορετικούς χάρτες παράγει μη συγκρίσιμα αποτελέσματα.\n",
    " * Για λόγους ευκολίας σύγκρισης, προτείνεται να τοποθετήσετε πολλαπλές γραφικές παραστάσεις στο ίδιο σύστημα αξόνων, όπου αυτό είναι εφικτό.\n",
    "\n",
    "**Visualization**: Παράλληλα με τα παραπάνω σάς δίνεται έτοιμη και μια κλάση η όποια κατασκευάζει ένα animation της αναζήτησης το οποίο υλοποιεί κάθε αλγόριθμος. Για την χρήση της κλάσης αυτής πρέπει να κάνετε τα εξής 4 βήματα:\n",
    "\n",
    "1.\tΔημιουργία ενός instance της κλάσης εκτελώντας την παρακάτω εντολή: `visualization(Start, Goal)`. Η εντολή αυτή δημιουργεί ένα αντικείμενο τύπου visualization. \n",
    "2.\tΤο βίντεο που παράγεται κάθε φορά ουσιαστικά αποτελείται από stacked frames. Συνεπώς σε κάθε βήμα εκτέλεσης όπου δηλαδή θέλουμε να προσθέσουμε ένα frame στο βίντεο πρέπει να καλέσουμε την μέθοδο της κλάσης: `draw_step(grid, frontier, expanded_nodes)` όπου το πρώτο όρισμα είναι ένας χάρτης (τύπου Maze) το δεύτερο μια λίστα με το μέτωπο της αναζήτηση ενώ το τρίτο μια λίστα με τους κόμβους οι όποιοι έχουν ήδη επεκταθεί από τον αλγόριθμο. \n",
    "3.\t(Προαιρετικό) Αν θέλουμε να προσθέσουμε στο animation και το βέλτιστο μονοπάτι που βρήκε ο αλγόριθμός μας μπορούμε να καλέσουμε την μέθοδο add_path(path) η οποία δέχεται σαν όρισμα μια λίστα με όλους τους κόμβους που ανήκουν στο βέλτιστο μονοπάτι (συμπεριλαμβανομένων και των κόμβων αρχής και τέλους).\n",
    "4.\tΤέλος καλούμε την συνάρτηση `show_gif()` η όποια εμφανίζει το animation. Επίσης μπορούμε και να αποθηκεύσουμε το gif καλώντας την συνάρτηση `save_gif (filename)` (το αρχείο πρέπει να έχει κατάληξη .gif) καθώς επίσης μπορούμε να εμφανίσουμε μόνο το τελευταίο frame καλώντας την συνάρτηση `show_last_frame()` στο όποιο (αν έχουν γίνει όλα όπως παραπάνω) θα φαίνονται όλοι οι κόμβοι οι οποίοι έχουν επεκταθεί από τον αλγόριθμο, το τελευταίο μέτωπο και (προαιρετικά) και το βέλτιστο μονοπάτι.\n",
    "\n",
    "Μπορείτε να καταλήξετε στα ίδια συμπεράσματα όσον αφορά την πολυπλοκότητα των αλγορίθμων παρατηρώντας το visualization; \n"
   ]
  },
  {
   "cell_type": "markdown",
   "metadata": {
    "id": "8QaZkm0nPnR6"
   },
   "source": [
    "## Μέρος 4\n",
    "\n",
    "Στο τέταρτο μέρος της εργασίας στο λαβύρινθο υπάρχει ένα φάντασμα 👻! Ο στόχος είναι να φτάσουμε στο σημείο τερματισμού αποφεύγοντας το φάντασμα, το οποίο μας κυνηγάει τρέχοντας σε κάθε βήμα τον δικό του Α*. Ο κώδικας που τρέχει το φάντασμα ''Agent'' σας δίνεται έτοιμος.\n",
    "\n",
    "Για την αποφυγή του φαντάσματος θα υλοποιήσουμε τον αλγόριθμο ΑΒ. Συγκεκριμένα, σας δίνεται η κλάση ''ΑΒagent'' στην οποία καλείστε να συμπληρώσετε τις κινήσεις του minimizing_player (όπως διδαχθήκατε στο μάθημα), δεδομένων των αντίστοιχων κινήσεων του maximizing_player. Στα πλαίσια του αλγορίθμου αυτού θα χρειαστεί να ορίσετε μια ευριστική συνάρτηση η οποία εκτιμά το κόστος της επόμενης κατάστασης συνυπολογίζοντας την απόσταση τόσο από το στόχο και από το φάντασμα. \n",
    "\n",
    "Περιγράψτε στο κατάλληλο markdown κελί τη συλλογιστική πορεία για τις επιλογές σας όσον αφορά την ευριστική. Πώς υπολογίσατε τις αποστάσεις (με εκτίμηση/πραγματική μετρική); Αναφέρετε αναλυτικά τα αποτέλεσματα και τις παρατηρήσεις σας σχετικά με τις παραπάνω επιλογές. Μεγαλύτερη σημασία έχει ο πειραματισμός και η αναφορά των αποτελεσμάτων, όσον αφορά αφορά την ευριστική, παρά η αναζήτηση της καλύτερης συνάρτησης. Ως αποτελέσματα ζητείται να παραθέσετε: χαρακτηριστικά gifs και χρόνους εκτέλεσης. Δικαιολογείστε γιατί ο αλγόριθμός σας δουλεύει ορθά. \n",
    "\n",
    "**ΠΡΟΣΟΧΗ!** Στο 4ο μέρος οι λαβύρινθοι που θα χρησιμοποιήσετε πρέπει να είναι αραιοί ως προς τα εμπόδια. Αν τα υπάρχοντα μονοπάτια προς το στόχο είναι λίγα, θα είναι δύσκολο να ξεφύγετε από το φάντασμα ανεξαρτήτως υλοποίησης."
   ]
  },
  {
   "cell_type": "markdown",
   "metadata": {
    "id": "nqTnPBPM_RrH"
   },
   "source": [
    "## Μέρος 5 (bonus)\n",
    "\n",
    "Στο πέμπτο και τελευταίο μέρος της εργασίας σάς δίνεται η δυνατότητα να κατασκευάσετε λαβυρίνθους με το χέρι, ζωγραφίζοντας. Για το σκοπό αυτό σας δίνεται η συνάρτηση draw(filename='filename.png') η οποία παράγει ένα interactive grid ώστε να σχηματίσετε το λαβύρινθο. Θεωρήστε ως μαύρο το χρώμα του εμποδίου, πράσινο την αφετηρία και κόκκινο το στόχο, και πατήστε finish για να ολοκληρωθεί η εκτέλεση του τρέχοντος κελιού. Σε περίπτωση που θέλετε να παράξετε νέο λαβύρινθο, απλά ξανατρέξτε το κελί, επιλέξτε τα τετράγωνα και πατήστε finish. Κάθε εκτέλεση αποθηκεύει την εικόνα σε μορφή png σε όνομα που μπορείτε να καθορίσετε μέσω του filename (τοποθετώντας και την κατάληξη .png) κατά την κλήση της συνάρτησης.  \n",
    "\n",
    "Καλείστε λοιπόν να **κατασκευάσετε** και να **σχολιάσετε** τους παρακάτω 5 λαβυρίνθους, οι οποίοι θα ικανοποιούν τις παρακάτω συνθήκες:\n",
    "\n",
    "\n",
    "*   **Λαβύρινθος 1**: Ο Hill-climbing δεν βρίσκει μονοπάτι από την αφετηρία στο στόχο.\n",
    "*   **Λαβύρινθος 2**: Ο Α* αργεί όσο το δυνατόν περισσότερο να βρει το βέλτιστο μονοπάτι ανεξαρτήτως της μετρικής απόστασης που χρησιμοποιείται ως ευριστική. Σε τι είδους μονοπάτι η επιλογή διαφορετικής μετρικής απόστασης (Ευκλίδεια/Manhattan) ως ευριστικής οδηγεί τον Α* να βρίσκει το μονοπάτι πιο γρήγορα;\n",
    "*   **Λαβύρινθος 3**: Ο αλγόριθμος άπληστης αναζήτησης πρώτα στο καλύτερο (greedy best first) αργεί σημαντικά περισσότερο από τον Α* για να καταλήξει στο στόχο. Σε ποια περίπτωση οι δύο αλγόριθμοι θα συμπεριφέρονταν με τον ίδιο τρόπο;\n",
    "*   **Λαβύρινθος 4**: Ο Α* καταφέρνει να βρει το μονοπάτι προς το στόχο σημαντικά πιο γρήγορα από τον Dijkstra. Ο χώρος πρέπει αναγκαστικά να περιέχει εμπόδια. Πώς επηρεάζει το μέγεθος/είδος του εμποδίου τον αριθμό βημάτων που χρειάζεται ο Dijsktra και πώς τον αριθμό βημάτων του Α*;\n",
    "*   **Λαβύρινθος 5**: Ο Α* και ο Dijkstra φτάνουν στο στόχο πραγματοποιώντας τον ίδιο ακριβώς αριθμό βημάτων για την προσέγγιση της βέλτιστης διαδρομής. Σημείωση: **αγνοήστε** την τετριμμένη περίπτωση όπου ο Α* συμπεριφέρεται όπως ο Dijkstra (h(n)=0). \n",
    "\n",
    "\n",
    "Ο Α* σε όλες τις περιπτώσεις πραγματοποιεί τη βέλτιστη δυνατή αναζήτηση.   \n",
    "\n",
    "\n",
    "Για κάθε λαβύρινθο που σχηματίζετε, δώστε μια σύντομη εξήγηση για την επιλογή σας.  \n",
    "\n",
    "**ΠΡΟΣΟΧΗ:** το output των κελιών που σχηματίζετε διατηρείται για περιορισμένο χρονικό διάστημα στο notebook, γι αυτό καλείστε να αποθηκεύσετε τη φωτογραφία (το πραγματοποιεί η συνάρτηση draw()) και να τη μεταφέρετε στο ανάλογο markdown ώστε να μπορέσουμε να την αξιολογήσουμε.\n",
    "\n",
    "\n",
    "Στη συνέχεια, καλείστε να τρέξετε τους αλγορίθμους pathfinding πάνω στους χάρτες που σχηματίσατε. Για το σκοπό αυτό, μετά την εκτέλεση της draw() καλείτε τη συνάρτηση draw_grid() που μετατρέπει την εικόνα που σχηματίσατε σε χάρτη πάνω στον οποίο μπορούν να τρέξουν οι αλγόριθμοι με χρήση της συνάρτησης pathfinder(). Χρειάζεται να επιλέξετε κατάλληλα τα ορίσματα της pathfinder ώστε να καλέσετε το σωστό αλγόριθμο αναζήτησης σε κάθε ερώτημα. Εκτελέστε τα αντίστοιχα κελιά με τον κώδικα που σας δίνεται και παρουσιάστε την έξοδο αυτών. Φυσικά, εάν ένα ερώτημα περιλαμβάνει την εκτέλεση περισσότερων του ενός αλγορίθμου, αντιγράφετε τα αντίστοιχα κελιά για κάθε αλγόριθμο και τοποθετείτε τα σωστά ορίσματα. Τέλος, η show_gif() σάς παρουσιάζει το animation, όπως και στο Μέρος 3.\n",
    "**Παρατήρηση:** εφόσον δε σας δίνεται/δεν έχετε υλοποιήσει τον Hill climbing, δε σας ζητείται να τον τρέξετε στο χάρτη που θα σχηματίσετε."
   ]
  },
  {
   "cell_type": "markdown",
   "metadata": {
    "id": "k4B8EEBhClt2"
   },
   "source": [
    "## Κώδικας visualization\n"
   ]
  },
  {
   "cell_type": "code",
   "execution_count": 1,
   "metadata": {
    "id": "fH9jHuU-Chps"
   },
   "outputs": [],
   "source": [
    "import numpy as np\n",
    "import matplotlib.pyplot as plt\n",
    "import matplotlib.animation as animation\n",
    "from matplotlib.animation import PillowWriter\n",
    "from IPython.display import HTML\n",
    "\n",
    "class visualization:\n",
    "    def __init__(self, S, F):\n",
    "        '''\n",
    "          Η μέθοδος αυτή αρχικοποιεί ένα αντικείμενο τύπου visualization.\n",
    "          Είσοδος: \n",
    "          -> S: το σημείο εκκίνσης της αναζήτησης\n",
    "          -> F: το σημείο τερματισμού\n",
    "        '''\n",
    "        self.S = S\n",
    "        self.F = F\n",
    "        self.images = []\n",
    "    \n",
    "    def draw_step(self, grid, frontier, expanded_nodes):\n",
    "        '''\n",
    "          Η συνάρτηση αυτή καλείται για να σχεδιαστεί ένα frame στο animation (πρακτικά έπειτα από την επέκταση κάθε κόμβου)\n",
    "          Είσοδος: \n",
    "          -> grid: Ένα χάρτης τύπου grid\n",
    "          -> frontier: Μια λίστα με τους κόμβους που ανήκουν στο μέτωπο της αναζήτησης\n",
    "          -> expanded_nodes: Μια λίστα με τους κόμβους που έχουν ήδη επεκταθεί\n",
    "          Επιστρέφει: None\n",
    "          Η συνάρτηση αυτή πρέπει να καλεστεί τουλάχιστον μια φορά για να μπορέσει να σχεδιαστει ένα animation (πρεπεί το animation να έχει τουλάχιστον ένα frame).\n",
    "        '''\n",
    "        image = np.zeros((grid.N, grid.N, 3), dtype=int)\n",
    "        image[~grid.grid] = [0, 0, 0]\n",
    "        image[grid.grid] = [255, 255, 255]\n",
    "        # Use this to treat 1/True as obstacles\n",
    "        # image[grid.grid] = [0, 0, 0]\n",
    "        # image[~grid.grid] = [255, 255, 255]\n",
    "        \n",
    "        for node in expanded_nodes:\n",
    "            image[node] = [0, 0, 128]\n",
    "\n",
    "        for node in frontier:\n",
    "            image[node] = [0, 225, 0]\n",
    "\n",
    "        image[self.S] = [50, 168, 64]\n",
    "        image[self.F] = [168, 50, 50]\n",
    "        self.images.append(image)\n",
    "    \n",
    "    def add_path(self, path):\n",
    "        '''\n",
    "          Η συνάρτηση αυτή προσθέτει στο τελευταίο frame το βέλτιστο μονοπάτι.\n",
    "          Είσοδος:\n",
    "          -> path: Μια λίστα η όποια περιέχει το βέλτιστο μονοπάτι (η οποία πρέπει να περιέχει και τον κόμβο αρχή και τον κόμβο στόχο)\n",
    "          Έξοδος: None\n",
    "        '''\n",
    "        for n in path[1:-1]:\n",
    "            image = np.copy(self.images[-1])\n",
    "            image[n] = [66, 221, 245]\n",
    "            self.images.append(image)\n",
    "        for _ in range (100):\n",
    "            self.images.append(image)\n",
    "        \n",
    "    def create_gif(self, fps = 30, repeat_delay = 2000):\n",
    "        if len(self.images) == 0:\n",
    "            raise EmptyStackOfImages(\"Error! You have to call 'draw_step' at  first.\")\n",
    "        fig = plt.figure()\n",
    "        plt.axis('off')\n",
    "        ims = []\n",
    "        for img in self.images:\n",
    "            img = plt.imshow(img)\n",
    "            ims.append([img])\n",
    "        ani = animation.ArtistAnimation(fig, ims, interval=1000//fps, blit=True, repeat_delay= repeat_delay)\n",
    "        plt.close(fig)\n",
    "        return ani\n",
    "        \n",
    "    def save_gif(self, filename, fps = 30):\n",
    "        '''\n",
    "            Η συνάρτηση αυτή ξαναδημιουργεί και αποθηκεύει το animation σε ένα αρχείο.\n",
    "            Είσοδος:\n",
    "            -> Το όνομα του αρχείου με κατάληξη .gif\n",
    "            Έξοδος: (None)\n",
    "        '''\n",
    "        ani = self.create_gif(fps)\n",
    "        writer = PillowWriter(fps= fps)\n",
    "        ani.save(filename, writer=writer)\n",
    "\n",
    "    def show_gif(self, fps= 30, repeat_delay = 2000):\n",
    "        '''\n",
    "            Η συνάρτηση αυτή εμφανίζει inline το animation.\n",
    "            Είσοδος:\n",
    "            -> fps: τα frames per second\n",
    "            Έξοδος: Το αντικείμενο που παίζει το animation\n",
    "            Exceptions: EmptyStackOfImages αν το animation δεν έχει ούτε ένα frame, δηλαδή αν η draw_step δεν έχει καλεστεί ποτέ.\n",
    "        '''\n",
    "        ani = self.create_gif(fps, repeat_delay)\n",
    "        # return HTML(ani.to_html5_video())\n",
    "        return HTML(ani.to_jshtml())\n",
    "\n",
    "    def show_last_frame(self):\n",
    "        '''\n",
    "            Η μέθοδος αυτή εμφανίζει inline το τελευταίο frame που έχει δημιουργήθει.\n",
    "            Είσοδος:\n",
    "            Έξοδος: Το αντικείμενο που εμφανίζει την εικόνα.\n",
    "            Exceptions: EmptyStackOfImages αν το animation δεν έχει ούτε ένα frame, δηλαδή αν η draw_step δεν έχει καλεστεί ποτέ.\n",
    "        '''\n",
    "        if len(self.images) == 0:\n",
    "            raise EmptyStackOfImages(\"Error! You have to call 'draw_step' at  first.\")\n",
    "        else:\n",
    "            plt.imshow(self.images[-1])\n",
    "\n",
    "\n",
    "class EmptyStackOfImages(Exception):\n",
    "    pass"
   ]
  },
  {
   "cell_type": "markdown",
   "metadata": {
    "id": "HTjP864PLeRW"
   },
   "source": [
    "## Μέρος 1"
   ]
  },
  {
   "cell_type": "code",
   "execution_count": 2,
   "metadata": {
    "id": "t-BBg2eWAFN4"
   },
   "outputs": [],
   "source": [
    "%matplotlib inline\n",
    "import numpy as np\n",
    "from queue import LifoQueue\n",
    "import  random \n",
    "import matplotlib.pyplot as plt\n",
    "\n",
    "\n",
    "class Maze:\n",
    "    def __init__(self, N, S, F, threshold=0.02):\n",
    "\n",
    "      \"\"\"\n",
    "      N: integer that indicates the size of the NxN grid of the maze\n",
    "      S: pair of integers that indicates the coordinates of the starting point (S)\n",
    "      F: pair of integers that indicates the coordinates of the finish point (F)\n",
    "      You can add any other parameters you want to customize maze creation (e.g. variables that\n",
    "      control the creation of additional paths)\n",
    "      \"\"\"\n",
    "\n",
    "      assert N > 2\n",
    "\n",
    "      ## Make sure start and end are within the grid\n",
    "\n",
    "      assert S < (N-1, N-1)\n",
    "      assert F < (N-1, N-1)\n",
    "\n",
    "      assert S > (0, 0)\n",
    "      assert F > (0, 0)\n",
    "\n",
    "      # Add here any additional constraints your implementation may have\n",
    "      \n",
    "      assert N % 2 == 1\n",
    "      assert S[0] % 2 == 1\n",
    "      assert S[1] % 2 == 1\n",
    "      assert F[0] % 2 == 1\n",
    "      assert F[1] % 2 == 1\n",
    "\n",
    "      self.N = N\n",
    "      self.S = S\n",
    "      self.F = F\n",
    "\n",
    "      # Keep track of the agents in the Maze\n",
    "      self.agents=[]\n",
    "\n",
    "      ## Initialize grid \n",
    "\n",
    "      self.grid = np.zeros((N, N), dtype=bool)\n",
    "\n",
    "      def neighbors(node, N, visited, threshold):\n",
    "        \"\"\" \n",
    "        Returns all neighbors of a node that are either unvisited, or they are visited but\n",
    "        there is a wall between the node and the neighbor and the neighbor passes a random test.\n",
    "        \"\"\"\n",
    "\n",
    "        l = []\n",
    "        x, y = node\n",
    "\n",
    "        # first condition in all checks is for boundaries\n",
    "        # neighbors are +-2 in x or y\n",
    "        # walls are +-1\n",
    "\n",
    "        # neighbour on the the left\n",
    "        if x > 2 and (not visited[x-2, y] or (not visited[x-2,y] and random.uniform(0,1) <= threshold)):\n",
    "            l.append((x-2, y))\n",
    "            \n",
    "        ### YOUR CODE HERE \\/\n",
    "        \n",
    "        # neighbour on the right\n",
    "        if x < N-2 and (not visited[x+2, y] or (not visited[x+2, y] and random.uniform(0,1) <= threshold)):\n",
    "            l.append((x+2,y))\n",
    "        \n",
    "        # neighbour underneath\n",
    "        if y > 2 and (not visited[x, y-2] or (not visited[x, y-2] and random.uniform(0,1) <= threshold)):\n",
    "            l.append((x,y-2))\n",
    "            \n",
    "        # neighbour above\n",
    "        if y < N-2 and (not visited[x,y+2] or (not visited[x,y+2] and random.uniform(0,1) <= threshold)):\n",
    "            l.append((x,y+2))          \n",
    "\n",
    "        ### YOUR CODE HERE /\\\n",
    "        \n",
    "        return l\n",
    "\n",
    "      stack = []\n",
    "      stack.append(self.S)\n",
    "      self.grid[self.S] = True\n",
    "\n",
    "      while stack:\n",
    "          current_node = stack.pop()\n",
    "          # get all unvisited neighbors (and some visited ones with a random chance)\n",
    "          neighs = neighbors(current_node, self.N, self.grid, threshold)\n",
    "          if len(neighs):\n",
    "              stack.append(current_node)\n",
    "              \n",
    "              \n",
    "              ### YOUR CODE HERE \\/\n",
    "              # select a random neighbor\n",
    "\n",
    "              # select a random index inside the correct limits and pick the corresponding neighbour\n",
    "              index = random.randint(0,len(neighs)-1)\n",
    "              next_node = neighs[index]\n",
    "\n",
    "              ### YOUR CODE HERE /\\\n",
    "\n",
    "\n",
    "              ### YOUR CODE HERE \\/\n",
    "\n",
    "              # calculate the coordinates of the wall - in between the current node and the next node\n",
    "              x_current, y_current = current_node\n",
    "              x_next, y_next = next_node\n",
    "              x_wall = x_current if x_current==x_next else min(x_next,x_current)+1\n",
    "              y_wall = y_current if y_current==y_next else min(y_next,y_current)+1\n",
    "              # break the wall between current and next node\n",
    "              self.grid[x_wall, y_wall] = True\n",
    "                        \n",
    "              ### YOUR CODE HERE /\\\n",
    "\n",
    "\n",
    "              # mark next node as visited and add it to the stack\n",
    "              self.grid[next_node] = True\n",
    "              stack.append(next_node)\n",
    "             \n",
    "      \n",
    "\n",
    "    def adjacent_no_walls(self, node):\n",
    "      x, y = node\n",
    "      ret = []\n",
    "      if x - 1 > -1 and self.grid[x-1,y]:\n",
    "        ret.append((x-1,y))\n",
    "      if x + 1 < self.N and self.grid[x+1,y]:\n",
    "        ret.append((x+1,y))\n",
    "      if y - 1 > -1 and self.grid[x,y-1]:\n",
    "        ret.append((x,y-1))\n",
    "      if y + 1 < self.N and self.grid[x,y+1]:\n",
    "        ret.append((x,y+1))\n",
    "      return ret\n",
    "\n",
    "\n",
    "\n",
    "    def draw_map(self, path=None,return_image=False):\n",
    "        \"\"\" \n",
    "        Draws the maze as an image. Considers grid values of 0/False to represent obstacles and\n",
    "        values of 1/True to represent empty cells, but this can be customized. Obstacles are painted\n",
    "        black and empty cells are painted white. Starting point is painted green and finish point red.\n",
    "        Optionally accepts as a parameter a path within the maze which is painted blue. \n",
    "        \"\"\"\n",
    "        image = np.zeros((self.N, self.N, 3), dtype=int)\n",
    "        image[~self.grid] = [0, 0, 0]\n",
    "        image[self.grid] = [255, 255, 255]\n",
    "        # Use this to treat 1/True as obstacles\n",
    "        # image[self.grid] = [0, 0, 0]\n",
    "        # image[~self.grid] = [255, 255, 255]\n",
    "\n",
    "        image[self.S] = [50, 168, 64]\n",
    "        image[self.F] = [168, 50, 50]\n",
    "        if path:\n",
    "            for n in path[1:-1]:\n",
    "                image[n] = [66, 221, 245]\n",
    "\n",
    "        if len(self.agents)>0:\n",
    "          for a in self.agents:\n",
    "            image[a.location]=a.color\n",
    "\n",
    "        if return_image:\n",
    "          return image\n",
    "        else:\n",
    "          plt.imshow(image)\n",
    "          plt.xticks([])\n",
    "          plt.yticks([])\n",
    "          plt.show()\n",
    "        "
   ]
  },
  {
   "cell_type": "code",
   "execution_count": 3,
   "metadata": {
    "id": "9LK61zuVBCi2"
   },
   "outputs": [
    {
     "data": {
      "image/png": "[encoded data removed]",
      "text/plain": [
       "<Figure size 640x480 with 1 Axes>"
      ]
     },
     "metadata": {},
     "output_type": "display_data"
    },
    {
     "data": {
      "image/png": "[encoded data removed]",
      "text/plain": [
       "<Figure size 640x480 with 1 Axes>"
      ]
     },
     "metadata": {},
     "output_type": "display_data"
    },
    {
     "data": {
      "image/png": "[encoded data removed]",
      "text/plain": [
       "<Figure size 640x480 with 1 Axes>"
      ]
     },
     "metadata": {},
     "output_type": "display_data"
    }
   ],
   "source": [
    "for N, S, F in (11, (1, 3), (7, 9)), (25, (3, 7), (23, 19)), (51, (9, 3), (41, 41)):\n",
    "    map = Maze(N, S, F, threshold=2/(N*np.log(N)))\n",
    "    map.draw_map()"
   ]
  },
  {
   "cell_type": "markdown",
   "metadata": {
    "id": "7XhekogLCJ1i"
   },
   "source": [
    "## Μέρος 2\n"
   ]
  },
  {
   "cell_type": "code",
   "execution_count": 4,
   "metadata": {
    "id": "dXgXz9ZbCR2y"
   },
   "outputs": [],
   "source": [
    "from queue import PriorityQueue\n",
    "\n",
    "class pathfinder:\n",
    "    def __init__(self, S, F, grid, c, h,visualize=True):\n",
    "        self.S = S\n",
    "        self.F = F\n",
    "        self.grid = grid\n",
    "        self.cost = c\n",
    "        self.heuristic = h\n",
    "        self.no_expanded_nodes = 0\n",
    "\n",
    "        #for visualization \n",
    "        self.visualize=visualize\n",
    "        self.vis = visualization(S, F)\n",
    "        self.find_path()\n",
    "\n",
    "\n",
    "    def find_path(self):\n",
    "        frontier = PriorityQueue()\n",
    "        frontier.put((0, self.S))\n",
    "        came_from = {}\n",
    "        cost_so_far = {}\n",
    "        came_from[self.S] = None\n",
    "        cost_so_far[self.S] = 0\n",
    "        self.no_expanded_nodes = 0\n",
    "        \n",
    "        while not frontier.empty():\n",
    "            current = frontier.get()[1]\n",
    "            if current == self.F:\n",
    "                break\n",
    "            self.no_expanded_nodes += 1\n",
    "\n",
    "            for next in  self.grid.adjacent_no_walls(current):\n",
    "                ### YOUR CODE HERE \\/ (cost so far+cost to next)\n",
    "                new_cost = cost_so_far[current]+self.cost(current,next)\n",
    "                ### YOUR CODE HERE /\\\n",
    "\n",
    "                if next not in cost_so_far or new_cost < cost_so_far[next]:\n",
    "                    cost_so_far[next] = new_cost\n",
    "\n",
    "                    ### YOUR CODE HERE \\/ (c+h)\n",
    "                    priority = new_cost + self.heuristic(current,next)\n",
    "                    ### YOUR CODE HERE /\\\n",
    "                    frontier.put((priority, next))\n",
    "                    came_from[next] = current\n",
    "                #for animation\n",
    "                #find frontier and expanded nodes\n",
    "                restore = []\n",
    "                while not frontier.empty(): \n",
    "                    node = frontier.get()\n",
    "                    restore.append(node) \n",
    "                for node in restore:\n",
    "                    frontier.put(node)\n",
    "                exp = []\n",
    "                #find expanded nodes\n",
    "                for v in came_from:\n",
    "                    if v:\n",
    "                        exp.append(v)\n",
    "                if self.visualize:\n",
    "                  self.vis.draw_step(self.grid, [r[1] for r in restore], exp)\n",
    "                    \n",
    "\n",
    "        # follow backlinks to build path\n",
    "        # current = self.F\n",
    "        path = []\n",
    "        while current != self.S:\n",
    "            path.append(current)\n",
    "            if current not in came_from:\n",
    "              self.grid.draw_map()\n",
    "            current = came_from[current]\n",
    "        path.append(self.S)\n",
    "        path.reverse()\n",
    "\n",
    "        self.path = path\n",
    "        \n",
    "    def get_path(self):\n",
    "        return self.path\n",
    "\n",
    "    def get_complexity(self):\n",
    "        return self.no_expanded_nodes\n"
   ]
  },
  {
   "cell_type": "code",
   "execution_count": 5,
   "metadata": {
    "id": "Xmmp_4lAOERH"
   },
   "outputs": [],
   "source": [
    "import math\n",
    "\n",
    "## A heuristic\n",
    "def euclidean(a, b):\n",
    "    return math.sqrt((a[0] - b[0])**2 + (a[1] - b[1])**2)\n",
    "\n",
    "# Add more heuristics here\n",
    "\n",
    "### YOUR CODE HERE \\/\n",
    "\n",
    "def manhattan(a, b):\n",
    "    return abs(a[0]-b[0])+abs(a[1]-b[1])\n",
    "\n",
    "\n",
    "### YOUR CODE HERE /\\"
   ]
  },
  {
   "cell_type": "code",
   "execution_count": 6,
   "metadata": {
    "id": "fwcVPbRACUIz"
   },
   "outputs": [],
   "source": [
    "## Create a 41x41 maze\n",
    "N = 41\n",
    "S = (5, 9)\n",
    "F = (37, 37)\n",
    "\n",
    "map = Maze(N, S, F)"
   ]
  },
  {
   "cell_type": "code",
   "execution_count": 7,
   "metadata": {
    "id": "YOCQHk9M1Yrl"
   },
   "outputs": [
    {
     "data": {
      "image/png": "[encoded data removed]",
      "text/plain": [
       "<Figure size 640x480 with 1 Axes>"
      ]
     },
     "metadata": {},
     "output_type": "display_data"
    },
    {
     "name": "stdout",
     "output_type": "stream",
     "text": [
      "CPU times: user 417 ms, sys: 67.6 ms, total: 485 ms\n",
      "Wall time: 445 ms\n"
     ]
    }
   ],
   "source": [
    "%%time\n",
    "## Find and visualize the path\n",
    "pf = pathfinder(S, F, map, lambda x, y: 1, lambda x, y: 0)\n",
    "map.draw_map(pf.get_path())"
   ]
  },
  {
   "cell_type": "code",
   "execution_count": 8,
   "metadata": {
    "id": "_K4xHgp7olwp"
   },
   "outputs": [
    {
     "name": "stdout",
     "output_type": "stream",
     "text": [
      "Number of expanded nodes: 544\n"
     ]
    }
   ],
   "source": [
    "expanded_nodes = pf.get_complexity()\n",
    "print('Number of expanded nodes:', expanded_nodes)"
   ]
  },
  {
   "cell_type": "code",
   "execution_count": 9,
   "metadata": {
    "id": "--yjHv6503F_"
   },
   "outputs": [
    {
     "data": {
      "image/png": "[encoded data removed]",
      "text/plain": [
       "<Figure size 640x480 with 1 Axes>"
      ]
     },
     "metadata": {},
     "output_type": "display_data"
    },
    {
     "name": "stdout",
     "output_type": "stream",
     "text": [
      "CPU times: user 443 ms, sys: 41.5 ms, total: 485 ms\n",
      "Wall time: 445 ms\n"
     ]
    }
   ],
   "source": [
    "%%time\n",
    "pf = pathfinder(S, F, map, lambda x, y: 1, euclidean)\n",
    "map.draw_map(pf.get_path())"
   ]
  },
  {
   "cell_type": "code",
   "execution_count": 10,
   "metadata": {
    "id": "BFF5rMAHooqz"
   },
   "outputs": [
    {
     "name": "stdout",
     "output_type": "stream",
     "text": [
      "Number of expanded nodes: 544\n"
     ]
    }
   ],
   "source": [
    "expanded_nodes = pf.get_complexity()\n",
    "print('Number of expanded nodes:', expanded_nodes)"
   ]
  },
  {
   "cell_type": "code",
   "execution_count": 12,
   "metadata": {
    "id": "WQSXlPPO07cN"
   },
   "outputs": [
    {
     "data": {
      "image/png": "[encoded data removed]",
      "text/plain": [
       "<Figure size 640x480 with 1 Axes>"
      ]
     },
     "metadata": {},
     "output_type": "display_data"
    },
    {
     "name": "stdout",
     "output_type": "stream",
     "text": [
      "CPU times: user 770 ms, sys: 35.4 ms, total: 805 ms\n",
      "Wall time: 761 ms\n"
     ]
    }
   ],
   "source": [
    "%%time\n",
    "pf = pathfinder(S, F, map, lambda x, y: 0, euclidean)\n",
    "map.draw_map(pf.get_path())"
   ]
  },
  {
   "cell_type": "code",
   "execution_count": 13,
   "metadata": {
    "id": "f-0DySwVoqwm"
   },
   "outputs": [
    {
     "name": "stdout",
     "output_type": "stream",
     "text": [
      "Number of expanded nodes: 740\n"
     ]
    }
   ],
   "source": [
    "expanded_nodes = pf.get_complexity()\n",
    "print('Number of expanded nodes:', expanded_nodes)"
   ]
  },
  {
   "cell_type": "markdown",
   "metadata": {
    "id": "XmmqhRLfEjKj"
   },
   "source": [
    "## Μέρος 3\n",
    "\n",
    "Στο παρακάτω κελί σάς δίνεται ένα παράδειγμα για την κατασκευή γραφικών παραστάσεων. Θα πρέπει να κατασκευάσετε τις δύο γραφικές παραστάσεις σύμφωνα με τα ζητούμενα της άσκησης."
   ]
  },
  {
   "attachments": {},
   "cell_type": "markdown",
   "metadata": {},
   "source": [
    "## Modification\n",
    "\n",
    "## Μέρος 3\n",
    "\n",
    "Στο τρίτο μέρος καλείστε να υλοποιήσετε μια συγκριτική μελέτη των αλγορίθμων που κατασκευάσατε στο Μέρος 2 με σκοπό να καταλήξετε σε ορισμένα συμπεράσματα. Οι αλγόριθμοι θα συγκρίνονται με βάση την πολυπλοκότητά τους και το κατά πόσο μπορούν να βρούν το βέλτιστο μονοπάτι. \n",
    " \n",
    "Για να κρίνουμε τον τρόπο με τον οποίο το μέγεθος του λαβύρινθου επηρεάζει τους αλγορίθμους, κατασκευάζουμε χάρτες με διάσταση $N=[10,20,\\ldots,100]$. Για κάθε παραμετροποίηση προτείνεται να κατασκευάζετε 100 διαφορετικούς χάρτες, στους οποίους θα εκτελείτε τους παραπάνω αλγορίθμους.\n",
    " \n",
    "Έπειτα, ζητείται να συλλέξετε τα εξής χαρακτηριστικά:\n",
    " * το μήκος του ελάχιστου μονοπατιού που εξάγει ο εκάστοτε αλγόριθμος.\n",
    " * το πλήθος των επεκτεταμένων κόμβων (expanded nodes) του κάθε αλγορίθμου, που αποτελεί μέτρο της πολυπλοκότητάς του.\n",
    " \n",
    " Για να σας είναι εύκολο να εξάγετε συμπεράσματα από τις παραπάνω παραμετροποιήσεις, ζητείται να κατασκευάσετε δύο γραφικές παραστάσεις:\n",
    " * το μήκος του ελάχιστου μονοπατιού συναρτήσει του μεγέθους του χάρτη\n",
    " * το πλήθος των expanded nodes συναρτήσει του μεγέθους του χάρτη\n",
    "\n",
    "\n",
    "\n",
    " Σας ζητείται σχολιάσετε τις παραπάνω γραφικές παραστάσεις, και συγκεκριμένα το πώς μεταβάλλεται η συμπεριφορά των αλγορίθμων συναρτήσει του $N$.\n",
    " \n",
    " Σημειώνουμε τα παρακάτω:\n",
    " \n",
    " * Σε όλα τα παραπάνω πειράματα μπορείτε να λάβετε σαν σημείο εκκίνησης το $(1,1)$ και σαν σημείο τερματισμού το $(N-2,N-2)$. Εναλλακτικά, μπορείτε να πειραματισθείτε με τυχαία σημεία εκκινησης και τερματισμού.\n",
    " * Αν και οι χάρτες παράγονται τυχαία, η εκτέλεση αλγορίθμων σε διαφορετικούς χάρτες παράγει μη συγκρίσιμα αποτελέσματα.\n",
    " * Για λόγους ευκολίας σύγκρισης, προτείνεται να τοποθετήσετε πολλαπλές γραφικές παραστάσεις στο ίδιο σύστημα αξόνων, όπου αυτό είναι εφικτό.\n",
    "\n",
    "**Visualization**: Παράλληλα με τα παραπάνω σάς δίνεται έτοιμη και μια κλάση η όποια κατασκευάζει ένα animation της αναζήτησης το οποίο υλοποιεί κάθε αλγόριθμος. Για την χρήση της κλάσης αυτής πρέπει να κάνετε τα εξής 4 βήματα:\n",
    "\n",
    "1.\tΔημιουργία ενός instance της κλάσης εκτελώντας την παρακάτω εντολή: `visualization(Start, Goal)`. Η εντολή αυτή δημιουργεί ένα αντικείμενο τύπου visualization. \n",
    "2.\tΤο βίντεο που παράγεται κάθε φορά ουσιαστικά αποτελείται από stacked frames. Συνεπώς σε κάθε βήμα εκτέλεσης όπου δηλαδή θέλουμε να προσθέσουμε ένα frame στο βίντεο πρέπει να καλέσουμε την μέθοδο της κλάσης: `draw_step(grid, frontier, expanded_nodes)` όπου το πρώτο όρισμα είναι ένας χάρτης (τύπου Maze) το δεύτερο μια λίστα με το μέτωπο της αναζήτηση ενώ το τρίτο μια λίστα με τους κόμβους οι όποιοι έχουν ήδη επεκταθεί από τον αλγόριθμο. \n",
    "3.\t(Προαιρετικό) Αν θέλουμε να προσθέσουμε στο animation και το βέλτιστο μονοπάτι που βρήκε ο αλγόριθμός μας μπορούμε να καλέσουμε την μέθοδο add_path(path) η οποία δέχεται σαν όρισμα μια λίστα με όλους τους κόμβους που ανήκουν στο βέλτιστο μονοπάτι (συμπεριλαμβανομένων και των κόμβων αρχής και τέλους).\n",
    "4.\tΤέλος καλούμε την συνάρτηση `show_gif()` η όποια εμφανίζει το animation. Επίσης μπορούμε και να αποθηκεύσουμε το gif καλώντας την συνάρτηση `save_gif (filename)` (το αρχείο πρέπει να έχει κατάληξη .gif) καθώς επίσης μπορούμε να εμφανίσουμε μόνο το τελευταίο frame καλώντας την συνάρτηση `show_last_frame()` στο όποιο (αν έχουν γίνει όλα όπως παραπάνω) θα φαίνονται όλοι οι κόμβοι οι οποίοι έχουν επεκταθεί από τον αλγόριθμο, το τελευταίο μέτωπο και (προαιρετικά) και το βέλτιστο μονοπάτι.\n",
    "\n",
    "Μπορείτε να καταλήξετε στα ίδια συμπεράσματα όσον αφορά την πολυπλοκότητα των αλγορίθμων παρατηρώντας το visualization; \n",
    "\n",
    "\n",
    "## Modification"
   ]
  },
  {
   "cell_type": "code",
   "execution_count": 15,
   "metadata": {
    "id": "j_wp8ZuWtwEw"
   },
   "outputs": [
    {
     "data": {
      "image/png": "[encoded data removed]",
      "text/plain": [
       "<Figure size 640x480 with 1 Axes>"
      ]
     },
     "metadata": {},
     "output_type": "display_data"
    }
   ],
   "source": [
    "path_lengths_a = [1,2,3,4,5,6,7,8,9]\n",
    "path_lengths_b = [1,1,2,3,5,8,13,21,34]\n",
    "map_sizes = [10,20,30,40,50,60,70,80,90]\n",
    "\n",
    "plt.plot(map_sizes, path_lengths_a)\n",
    "plt.plot(map_sizes, path_lengths_b )\n",
    "plt.legend(['algorithm A', 'algorithm B'])\n",
    "plt.title('Path length vs map size')\n",
    "plt.show()"
   ]
  },
  {
   "cell_type": "code",
   "execution_count": 22,
   "metadata": {},
   "outputs": [],
   "source": [
    "def myPlot(x, y_list, color_list, label_list,title,ylabel,xlabel):\n",
    "    for i in range(len(y_list)):\n",
    "        plt.plot(x,y_list[i],color=color_list[i],label=label_list[i])\n",
    "    plt.title(title)\n",
    "    plt.ylabel(ylabel=ylabel)\n",
    "    plt.xlabel(xlabel=xlabel)\n",
    "    plt.legend()\n",
    "    plt.show()   "
   ]
  },
  {
   "cell_type": "code",
   "execution_count": 23,
   "metadata": {},
   "outputs": [],
   "source": [
    "def identity0(x,y):\n",
    "    return 0\n",
    "\n",
    "def identity1(x,y):\n",
    "    return 1"
   ]
  },
  {
   "cell_type": "code",
   "execution_count": 24,
   "metadata": {},
   "outputs": [],
   "source": [
    "def get_complexity_and_length(N,S,F,threshold,cost,heuristic):\n",
    "    \"\"\"\n",
    "    N: map size\n",
    "    S: start\n",
    "    F: finish\n",
    "    threshold: threshold for probabilistic variability in maze generation\n",
    "\n",
    "    The function creates a maze and computes a path with the given pathfinding algorithm\n",
    "    it returns the complexity and the path length\n",
    "    \"\"\"\n",
    "\n",
    "    map = Maze(N, S, F, threshold=threshold) \n",
    "    pf = pathfinder(S, F, map, cost, heuristic)\n",
    "    complexity, path_length = pf.get_complexity(), len(pf.get_path())\n",
    "    return complexity, path_length"
   ]
  },
  {
   "attachments": {},
   "cell_type": "markdown",
   "metadata": {},
   "source": [
    "#### DFS"
   ]
  },
  {
   "cell_type": "code",
   "execution_count": 20,
   "metadata": {},
   "outputs": [],
   "source": [
    "from multiprocessing import Pool\n",
    "thread_pool = Pool(15)\n",
    "\n",
    "complexities_dfs, lengths_dfs = [], []\n",
    "\n",
    "# for N in [11,21,...,101] because we need odd Ns\n",
    "for N in range(11,102,10):\n",
    "    # define start and finish\n",
    "    S, F = (1,1), (N-2,N-2)\n",
    "\n",
    "    # compute complexity and length for 10 examples in parallel\n",
    "    l = [(N, S, F, 2/(N*np.log(N)), identity1, identity0) for _ in range(10)]\n",
    "    complexities_and_lengths = thread_pool.starmap(get_complexity_and_length, l)\n",
    "    # print(complexities_and_lengths)\n",
    "    complexities = [comp for (comp,length) in complexities_and_lengths]\n",
    "    lengths = [length for (comp,length) in complexities_and_lengths]\n",
    "\n",
    "    average_complexity = sum(complexities)/len(complexities)\n",
    "    average_length = sum(lengths)/len(lengths)\n",
    "\n",
    "    complexities_dfs.append(average_complexity)\n",
    "    lengths_dfs.append(average_length)"
   ]
  },
  {
   "attachments": {},
   "cell_type": "markdown",
   "metadata": {},
   "source": [
    "#### Best First"
   ]
  },
  {
   "attachments": {},
   "cell_type": "markdown",
   "metadata": {},
   "source": [
    "**Manhattan**"
   ]
  },
  {
   "cell_type": "code",
   "execution_count": 28,
   "metadata": {},
   "outputs": [],
   "source": [
    "complexities_best_first_manhattan, lengths_best_first_manhattan = [], []\n",
    "\n",
    "# for N in [11,21,...,101] because we need odd Ns\n",
    "for N in range(11,102,10):\n",
    "    # define start and finish\n",
    "    S, F = (1,1), (N-2,N-2)\n",
    "\n",
    "    # compute complexity and length for 10 examples in parallel\n",
    "    l = [(N, S, F, 2/(N*np.log(N)), identity0, manhattan) for _ in range(10)]\n",
    "    complexities_and_lengths = thread_pool.starmap(get_complexity_and_length, l)\n",
    "    # print(complexities_and_lengths)\n",
    "    complexities = [comp for (comp,length) in complexities_and_lengths]\n",
    "    lengths = [length for (comp,length) in complexities_and_lengths]\n",
    "\n",
    "    average_complexity = sum(complexities)/len(complexities)\n",
    "    average_length = sum(lengths)/len(lengths)\n",
    "\n",
    "    complexities_best_first_manhattan.append(average_complexity)\n",
    "    lengths_best_first_manhattan.append(average_length)"
   ]
  },
  {
   "attachments": {},
   "cell_type": "markdown",
   "metadata": {},
   "source": [
    "**Euclidean**"
   ]
  },
  {
   "cell_type": "code",
   "execution_count": 29,
   "metadata": {},
   "outputs": [],
   "source": [
    "complexities_best_first_euclidean, lengths_best_first_euclidean = [], []\n",
    "\n",
    "# for N in [11,21,...,101] because we need odd Ns\n",
    "for N in range(11,102,10):\n",
    "    # define start and finish\n",
    "    S, F = (1,1), (N-2,N-2)\n",
    "\n",
    "    # compute complexity and length for 10 examples in parallel\n",
    "    l = [(N, S, F, 2/(N*np.log(N)), identity0, euclidean) for _ in range(10)]\n",
    "    complexities_and_lengths = thread_pool.starmap(get_complexity_and_length, l)\n",
    "    # print(complexities_and_lengths)\n",
    "    complexities = [comp for (comp,length) in complexities_and_lengths]\n",
    "    lengths = [length for (comp,length) in complexities_and_lengths]\n",
    "\n",
    "    average_complexity = sum(complexities)/len(complexities)\n",
    "    average_length = sum(lengths)/len(lengths)\n",
    "\n",
    "    complexities_best_first_euclidean.append(average_complexity)\n",
    "    lengths_best_first_euclidean.append(average_length)"
   ]
  },
  {
   "attachments": {},
   "cell_type": "markdown",
   "metadata": {},
   "source": [
    "#### A*"
   ]
  },
  {
   "attachments": {},
   "cell_type": "markdown",
   "metadata": {},
   "source": [
    "**Manhattan**"
   ]
  },
  {
   "cell_type": "code",
   "execution_count": 30,
   "metadata": {},
   "outputs": [],
   "source": [
    "complexities_a_star_manhattan, lengths_a_star_manhattan = [], []\n",
    "\n",
    "# for N in [11,21,...,101] because we need odd Ns\n",
    "for N in range(11,102,10):\n",
    "    # define start and finish\n",
    "    S, F = (1,1), (N-2,N-2)\n",
    "\n",
    "    # compute complexity and length for 10 examples in parallel\n",
    "    l = [(N, S, F, 2/(N*np.log(N)), identity1, manhattan) for _ in range(10)]\n",
    "    complexities_and_lengths = thread_pool.starmap(get_complexity_and_length, l)\n",
    "    # print(complexities_and_lengths)\n",
    "    complexities = [comp for (comp,length) in complexities_and_lengths]\n",
    "    lengths = [length for (comp,length) in complexities_and_lengths]\n",
    "\n",
    "    average_complexity = sum(complexities)/len(complexities)\n",
    "    average_length = sum(lengths)/len(lengths)\n",
    "\n",
    "    complexities_a_star_manhattan.append(average_complexity)\n",
    "    lengths_a_star_manhattan.append(average_length)"
   ]
  },
  {
   "attachments": {},
   "cell_type": "markdown",
   "metadata": {},
   "source": [
    "**Euclidean**"
   ]
  },
  {
   "cell_type": "code",
   "execution_count": 31,
   "metadata": {},
   "outputs": [],
   "source": [
    "complexities_a_star_euclidean, lengths_a_star_euclidean = [], []\n",
    "\n",
    "# for N in [11,21,...,101] because we need odd Ns\n",
    "for N in range(11,102,10):\n",
    "    # define start and finish\n",
    "    S, F = (1,1), (N-2,N-2)\n",
    "\n",
    "    # compute complexity and length for 10 examples in parallel\n",
    "    l = [(N, S, F, 2/(N*np.log(N)), identity1, euclidean) for _ in range(10)]\n",
    "    complexities_and_lengths = thread_pool.starmap(get_complexity_and_length, l)\n",
    "    # print(complexities_and_lengths)\n",
    "    complexities = [comp for (comp,length) in complexities_and_lengths]\n",
    "    lengths = [length for (comp,length) in complexities_and_lengths]\n",
    "\n",
    "    average_complexity = sum(complexities)/len(complexities)\n",
    "    average_length = sum(lengths)/len(lengths)\n",
    "\n",
    "    complexities_a_star_euclidean.append(average_complexity)\n",
    "    lengths_a_star_euclidean.append(average_length)"
   ]
  },
  {
   "attachments": {},
   "cell_type": "markdown",
   "metadata": {},
   "source": [
    "### Αποτελέσματα - Διαγράμματα"
   ]
  },
  {
   "cell_type": "code",
   "execution_count": 35,
   "metadata": {},
   "outputs": [
    {
     "data": {
      "image/png": "[encoded data removed]",
      "text/plain": [
       "<Figure size 640x480 with 1 Axes>"
      ]
     },
     "metadata": {},
     "output_type": "display_data"
    }
   ],
   "source": [
    "myPlot([i for i in range(11,102,10)], \n",
    "       [complexities_dfs, complexities_best_first_manhattan, complexities_best_first_euclidean, complexities_a_star_manhattan, complexities_a_star_euclidean], \n",
    "       ['magenta', 'orangered', 'teal', 'blue', 'goldenrod'], \n",
    "       ['DFS', 'Best First - Manhattan', 'Best First - Euclidean', 'A* Manhattan', 'A* Euclidean'], \n",
    "       \"Complexity vs map size\", \"complexity\", \"map size\")"
   ]
  },
  {
   "cell_type": "code",
   "execution_count": 36,
   "metadata": {},
   "outputs": [
    {
     "data": {
      "image/png": "[encoded data removed]",
      "text/plain": [
       "<Figure size 640x480 with 1 Axes>"
      ]
     },
     "metadata": {},
     "output_type": "display_data"
    }
   ],
   "source": [
    "myPlot([i for i in range(11,102,10)], \n",
    "       [lengths_dfs, lengths_best_first_manhattan, lengths_best_first_euclidean, lengths_a_star_manhattan,lengths_a_star_euclidean], \n",
    "       ['magenta', 'orangered', 'teal', 'blue', 'goldenrod'], \n",
    "       ['DFS', 'Best First - Manhattan', 'Best First - Euclidean', 'A* Manhattan', 'A* Euclidean'], \n",
    "       \"Path length vs map size\", \"path length\", \"map size\")"
   ]
  },
  {
   "cell_type": "code",
   "execution_count": 35,
   "metadata": {
    "id": "U2JL2snN-pEL"
   },
   "outputs": [
    {
     "data": {
      "text/plain": [
       "[(1, 1),\n",
       " (2, 1),\n",
       " (3, 1),\n",
       " (3, 2),\n",
       " (3, 3),\n",
       " (3, 4),\n",
       " (3, 5),\n",
       " (4, 5),\n",
       " (5, 5),\n",
       " (5, 6),\n",
       " (5, 7),\n",
       " (5, 8),\n",
       " (5, 9),\n",
       " (6, 9),\n",
       " (7, 9),\n",
       " (8, 9),\n",
       " (9, 9),\n",
       " (9, 10),\n",
       " (9, 11),\n",
       " (9, 12),\n",
       " (9, 13),\n",
       " (9, 14),\n",
       " (9, 15),\n",
       " (9, 16),\n",
       " (9, 17),\n",
       " (9, 18),\n",
       " (9, 19),\n",
       " (8, 19),\n",
       " (7, 19),\n",
       " (7, 18),\n",
       " (7, 17),\n",
       " (6, 17),\n",
       " (5, 17),\n",
       " (4, 17),\n",
       " (3, 17),\n",
       " (3, 16),\n",
       " (3, 15),\n",
       " (4, 15),\n",
       " (5, 15),\n",
       " (5, 14),\n",
       " (5, 13),\n",
       " (4, 13),\n",
       " (3, 13),\n",
       " (3, 12),\n",
       " (3, 11),\n",
       " (2, 11),\n",
       " (1, 11),\n",
       " (1, 12),\n",
       " (1, 13),\n",
       " (1, 14),\n",
       " (1, 15),\n",
       " (1, 16),\n",
       " (1, 17),\n",
       " (1, 18),\n",
       " (1, 19),\n",
       " (2, 19),\n",
       " (3, 19),\n",
       " (4, 19),\n",
       " (5, 19),\n",
       " (5, 20),\n",
       " (5, 21),\n",
       " (4, 21),\n",
       " (3, 21),\n",
       " (2, 21),\n",
       " (1, 21),\n",
       " (1, 22),\n",
       " (1, 23),\n",
       " (1, 24),\n",
       " (1, 25),\n",
       " (2, 25),\n",
       " (3, 25),\n",
       " (3, 24),\n",
       " (3, 23),\n",
       " (4, 23),\n",
       " (5, 23),\n",
       " (5, 24),\n",
       " (5, 25),\n",
       " (6, 25),\n",
       " (7, 25),\n",
       " (7, 26),\n",
       " (7, 27),\n",
       " (7, 28),\n",
       " (7, 29),\n",
       " (8, 29),\n",
       " (9, 29),\n",
       " (10, 29),\n",
       " (11, 29),\n",
       " (11, 28),\n",
       " (11, 27),\n",
       " (12, 27),\n",
       " (13, 27),\n",
       " (13, 28),\n",
       " (13, 29),\n",
       " (13, 30),\n",
       " (13, 31),\n",
       " (13, 32),\n",
       " (13, 33),\n",
       " (12, 33),\n",
       " (11, 33),\n",
       " (10, 33),\n",
       " (9, 33),\n",
       " (8, 33),\n",
       " (7, 33),\n",
       " (7, 32),\n",
       " (7, 31),\n",
       " (6, 31),\n",
       " (5, 31),\n",
       " (5, 32),\n",
       " (5, 33),\n",
       " (4, 33),\n",
       " (3, 33),\n",
       " (3, 34),\n",
       " (3, 35),\n",
       " (3, 36),\n",
       " (3, 37),\n",
       " (4, 37),\n",
       " (5, 37),\n",
       " (5, 36),\n",
       " (5, 35),\n",
       " (6, 35),\n",
       " (7, 35),\n",
       " (8, 35),\n",
       " (9, 35),\n",
       " (9, 36),\n",
       " (9, 37),\n",
       " (9, 38),\n",
       " (9, 39),\n",
       " (9, 40),\n",
       " (9, 41),\n",
       " (8, 41),\n",
       " (7, 41),\n",
       " (7, 40),\n",
       " (7, 39),\n",
       " (6, 39),\n",
       " (5, 39),\n",
       " (4, 39),\n",
       " (3, 39),\n",
       " (3, 40),\n",
       " (3, 41),\n",
       " (2, 41),\n",
       " (1, 41),\n",
       " (1, 42),\n",
       " (1, 43),\n",
       " (1, 44),\n",
       " (1, 45),\n",
       " (1, 46),\n",
       " (1, 47),\n",
       " (1, 48),\n",
       " (1, 49),\n",
       " (2, 49),\n",
       " (3, 49),\n",
       " (3, 48),\n",
       " (3, 47),\n",
       " (3, 46),\n",
       " (3, 45),\n",
       " (4, 45),\n",
       " (5, 45),\n",
       " (5, 44),\n",
       " (5, 43),\n",
       " (6, 43),\n",
       " (7, 43),\n",
       " (7, 44),\n",
       " (7, 45),\n",
       " (8, 45),\n",
       " (9, 45),\n",
       " (9, 46),\n",
       " (9, 47),\n",
       " (9, 48),\n",
       " (9, 49),\n",
       " (9, 50),\n",
       " (9, 51),\n",
       " (8, 51),\n",
       " (7, 51),\n",
       " (7, 50),\n",
       " (7, 49),\n",
       " (6, 49),\n",
       " (5, 49),\n",
       " (5, 50),\n",
       " (5, 51),\n",
       " (5, 52),\n",
       " (5, 53),\n",
       " (4, 53),\n",
       " (3, 53),\n",
       " (3, 52),\n",
       " (3, 51),\n",
       " (2, 51),\n",
       " (1, 51),\n",
       " (1, 52),\n",
       " (1, 53),\n",
       " (1, 54),\n",
       " (1, 55),\n",
       " (2, 55),\n",
       " (3, 55),\n",
       " (4, 55),\n",
       " (5, 55),\n",
       " (5, 56),\n",
       " (5, 57),\n",
       " (6, 57),\n",
       " (7, 57),\n",
       " (7, 58),\n",
       " (7, 59),\n",
       " (6, 59),\n",
       " (5, 59),\n",
       " (4, 59),\n",
       " (3, 59),\n",
       " (3, 60),\n",
       " (3, 61),\n",
       " (4, 61),\n",
       " (5, 61),\n",
       " (5, 62),\n",
       " (5, 63),\n",
       " (5, 64),\n",
       " (5, 65),\n",
       " (6, 65),\n",
       " (7, 65),\n",
       " (8, 65),\n",
       " (9, 65),\n",
       " (9, 64),\n",
       " (9, 63),\n",
       " (9, 62),\n",
       " (9, 61),\n",
       " (9, 60),\n",
       " (9, 59),\n",
       " (10, 59),\n",
       " (11, 59),\n",
       " (11, 60),\n",
       " (11, 61),\n",
       " (11, 62),\n",
       " (11, 63),\n",
       " (11, 64),\n",
       " (11, 65),\n",
       " (12, 65),\n",
       " (13, 65),\n",
       " (14, 65),\n",
       " (15, 65),\n",
       " (16, 65),\n",
       " (17, 65),\n",
       " (17, 64),\n",
       " (17, 63),\n",
       " (17, 62),\n",
       " (17, 61),\n",
       " (17, 60),\n",
       " (17, 59),\n",
       " (16, 59),\n",
       " (15, 59),\n",
       " (15, 58),\n",
       " (15, 57),\n",
       " (15, 56),\n",
       " (15, 55),\n",
       " (15, 54),\n",
       " (15, 53),\n",
       " (15, 52),\n",
       " (15, 51),\n",
       " (14, 51),\n",
       " (13, 51),\n",
       " (13, 50),\n",
       " (13, 49),\n",
       " (12, 49),\n",
       " (11, 49),\n",
       " (11, 48),\n",
       " (11, 47),\n",
       " (12, 47),\n",
       " (13, 47),\n",
       " (13, 46),\n",
       " (13, 45),\n",
       " (14, 45),\n",
       " (15, 45),\n",
       " (15, 44),\n",
       " (15, 43),\n",
       " (16, 43),\n",
       " (17, 43),\n",
       " (18, 43),\n",
       " (19, 43),\n",
       " (20, 43),\n",
       " (21, 43),\n",
       " (21, 42),\n",
       " (21, 41),\n",
       " (22, 41),\n",
       " (23, 41),\n",
       " (24, 41),\n",
       " (25, 41),\n",
       " (26, 41),\n",
       " (27, 41),\n",
       " (28, 41),\n",
       " (29, 41),\n",
       " (30, 41),\n",
       " (31, 41),\n",
       " (31, 40),\n",
       " (31, 39),\n",
       " (32, 39),\n",
       " (33, 39),\n",
       " (34, 39),\n",
       " (35, 39),\n",
       " (35, 40),\n",
       " (35, 41),\n",
       " (35, 42),\n",
       " (35, 43),\n",
       " (36, 43),\n",
       " (37, 43),\n",
       " (37, 42),\n",
       " (37, 41),\n",
       " (38, 41),\n",
       " (39, 41),\n",
       " (40, 41),\n",
       " (41, 41),\n",
       " (42, 41),\n",
       " (43, 41),\n",
       " (44, 41),\n",
       " (45, 41),\n",
       " (45, 40),\n",
       " (45, 39),\n",
       " (46, 39),\n",
       " (47, 39),\n",
       " (47, 40),\n",
       " (47, 41),\n",
       " (48, 41),\n",
       " (49, 41),\n",
       " (49, 42),\n",
       " (49, 43),\n",
       " (50, 43),\n",
       " (51, 43),\n",
       " (52, 43),\n",
       " (53, 43),\n",
       " (53, 44),\n",
       " (53, 45),\n",
       " (53, 46),\n",
       " (53, 47),\n",
       " (52, 47),\n",
       " (51, 47),\n",
       " (50, 47),\n",
       " (49, 47),\n",
       " (48, 47),\n",
       " (47, 47),\n",
       " (47, 46),\n",
       " (47, 45),\n",
       " (47, 44),\n",
       " (47, 43),\n",
       " (46, 43),\n",
       " (45, 43),\n",
       " (44, 43),\n",
       " (43, 43),\n",
       " (43, 44),\n",
       " (43, 45),\n",
       " (43, 46),\n",
       " (43, 47),\n",
       " (42, 47),\n",
       " (41, 47),\n",
       " (40, 47),\n",
       " (39, 47),\n",
       " (38, 47),\n",
       " (37, 47),\n",
       " (37, 46),\n",
       " (37, 45),\n",
       " (36, 45),\n",
       " (35, 45),\n",
       " (35, 46),\n",
       " (35, 47),\n",
       " (34, 47),\n",
       " (33, 47),\n",
       " (33, 46),\n",
       " (33, 45),\n",
       " (33, 44),\n",
       " (33, 43),\n",
       " (32, 43),\n",
       " (31, 43),\n",
       " (31, 44),\n",
       " (31, 45),\n",
       " (30, 45),\n",
       " (29, 45),\n",
       " (29, 44),\n",
       " (29, 43),\n",
       " (28, 43),\n",
       " (27, 43),\n",
       " (26, 43),\n",
       " (25, 43),\n",
       " (25, 44),\n",
       " (25, 45),\n",
       " (25, 46),\n",
       " (25, 47),\n",
       " (26, 47),\n",
       " (27, 47),\n",
       " (28, 47),\n",
       " (29, 47),\n",
       " (30, 47),\n",
       " (31, 47),\n",
       " (31, 48),\n",
       " (31, 49),\n",
       " (31, 50),\n",
       " (31, 51),\n",
       " (32, 51),\n",
       " (33, 51),\n",
       " (33, 52),\n",
       " (33, 53),\n",
       " (34, 53),\n",
       " (35, 53),\n",
       " (35, 52),\n",
       " (35, 51),\n",
       " (35, 50),\n",
       " (35, 49),\n",
       " (36, 49),\n",
       " (37, 49),\n",
       " (37, 50),\n",
       " (37, 51),\n",
       " (38, 51),\n",
       " (39, 51),\n",
       " (40, 51),\n",
       " (41, 51),\n",
       " (42, 51),\n",
       " (43, 51),\n",
       " (43, 52),\n",
       " (43, 53),\n",
       " (43, 54),\n",
       " (43, 55),\n",
       " (42, 55),\n",
       " (41, 55),\n",
       " (41, 54),\n",
       " (41, 53),\n",
       " (40, 53),\n",
       " (39, 53),\n",
       " (39, 54),\n",
       " (39, 55),\n",
       " (38, 55),\n",
       " (37, 55),\n",
       " (37, 56),\n",
       " (37, 57),\n",
       " (37, 58),\n",
       " (37, 59),\n",
       " (36, 59),\n",
       " (35, 59),\n",
       " (35, 60),\n",
       " (35, 61),\n",
       " (35, 62),\n",
       " (35, 63),\n",
       " (34, 63),\n",
       " (33, 63),\n",
       " (32, 63),\n",
       " (31, 63),\n",
       " (30, 63),\n",
       " (29, 63),\n",
       " (29, 62),\n",
       " (29, 61),\n",
       " (29, 60),\n",
       " (29, 59),\n",
       " (30, 59),\n",
       " (31, 59),\n",
       " (31, 60),\n",
       " (31, 61),\n",
       " (32, 61),\n",
       " (33, 61),\n",
       " (33, 60),\n",
       " (33, 59),\n",
       " (33, 58),\n",
       " (33, 57),\n",
       " (32, 57),\n",
       " (31, 57),\n",
       " (30, 57),\n",
       " (29, 57),\n",
       " (29, 56),\n",
       " (29, 55),\n",
       " (29, 54),\n",
       " (29, 53),\n",
       " (29, 52),\n",
       " (29, 51),\n",
       " (28, 51),\n",
       " (27, 51),\n",
       " (27, 50),\n",
       " (27, 49),\n",
       " (26, 49),\n",
       " (25, 49),\n",
       " (25, 50),\n",
       " (25, 51),\n",
       " (25, 52),\n",
       " (25, 53),\n",
       " (25, 54),\n",
       " (25, 55),\n",
       " (24, 55),\n",
       " (23, 55),\n",
       " (22, 55),\n",
       " (21, 55),\n",
       " (20, 55),\n",
       " (19, 55),\n",
       " (19, 54),\n",
       " (19, 53),\n",
       " (19, 52),\n",
       " (19, 51),\n",
       " (18, 51),\n",
       " (17, 51),\n",
       " (17, 52),\n",
       " (17, 53),\n",
       " (17, 54),\n",
       " (17, 55),\n",
       " (17, 56),\n",
       " (17, 57),\n",
       " (18, 57),\n",
       " (19, 57),\n",
       " (19, 58),\n",
       " (19, 59),\n",
       " (20, 59),\n",
       " (21, 59),\n",
       " (21, 58),\n",
       " (21, 57),\n",
       " (22, 57),\n",
       " (23, 57),\n",
       " (24, 57),\n",
       " (25, 57),\n",
       " (25, 58),\n",
       " (25, 59),\n",
       " (24, 59),\n",
       " (23, 59),\n",
       " (23, 60),\n",
       " (23, 61),\n",
       " (23, 62),\n",
       " (23, 63),\n",
       " (23, 64),\n",
       " (23, 65),\n",
       " (24, 65),\n",
       " (25, 65),\n",
       " (25, 66),\n",
       " (25, 67),\n",
       " (24, 67),\n",
       " (23, 67),\n",
       " (23, 68),\n",
       " (23, 69),\n",
       " (24, 69),\n",
       " (25, 69),\n",
       " (25, 70),\n",
       " (25, 71),\n",
       " (25, 72),\n",
       " (25, 73),\n",
       " (26, 73),\n",
       " (27, 73),\n",
       " (28, 73),\n",
       " (29, 73),\n",
       " (29, 74),\n",
       " (29, 75),\n",
       " (28, 75),\n",
       " (27, 75),\n",
       " (27, 76),\n",
       " (27, 77),\n",
       " (26, 77),\n",
       " (25, 77),\n",
       " (24, 77),\n",
       " (23, 77),\n",
       " (23, 78),\n",
       " (23, 79),\n",
       " (24, 79),\n",
       " (25, 79),\n",
       " (26, 79),\n",
       " (27, 79),\n",
       " (28, 79),\n",
       " (29, 79),\n",
       " (30, 79),\n",
       " (31, 79),\n",
       " (32, 79),\n",
       " (33, 79),\n",
       " (33, 80),\n",
       " (33, 81),\n",
       " (32, 81),\n",
       " (31, 81),\n",
       " (31, 82),\n",
       " (31, 83),\n",
       " (30, 83),\n",
       " (29, 83),\n",
       " (29, 84),\n",
       " (29, 85),\n",
       " (30, 85),\n",
       " (31, 85),\n",
       " (31, 86),\n",
       " (31, 87),\n",
       " (30, 87),\n",
       " (29, 87),\n",
       " (29, 88),\n",
       " (29, 89),\n",
       " (28, 89),\n",
       " (27, 89),\n",
       " (27, 88),\n",
       " (27, 87),\n",
       " (26, 87),\n",
       " (25, 87),\n",
       " (25, 86),\n",
       " (25, 85),\n",
       " (26, 85),\n",
       " (27, 85),\n",
       " (27, 84),\n",
       " (27, 83),\n",
       " (26, 83),\n",
       " (25, 83),\n",
       " (25, 82),\n",
       " (25, 81),\n",
       " (24, 81),\n",
       " (23, 81),\n",
       " (22, 81),\n",
       " (21, 81),\n",
       " (21, 82),\n",
       " (21, 83),\n",
       " (21, 84),\n",
       " (21, 85),\n",
       " (21, 86),\n",
       " (21, 87),\n",
       " (22, 87),\n",
       " (23, 87),\n",
       " (23, 88),\n",
       " (23, 89),\n",
       " (23, 90),\n",
       " (23, 91),\n",
       " (22, 91),\n",
       " (21, 91),\n",
       " (20, 91),\n",
       " (19, 91),\n",
       " (18, 91),\n",
       " (17, 91),\n",
       " (16, 91),\n",
       " (15, 91),\n",
       " (14, 91),\n",
       " (13, 91),\n",
       " (13, 90),\n",
       " (13, 89),\n",
       " (12, 89),\n",
       " (11, 89),\n",
       " (11, 88),\n",
       " (11, 87),\n",
       " (11, 86),\n",
       " (11, 85),\n",
       " (12, 85),\n",
       " (13, 85),\n",
       " (13, 86),\n",
       " (13, 87),\n",
       " (14, 87),\n",
       " (15, 87),\n",
       " (15, 86),\n",
       " (15, 85),\n",
       " (16, 85),\n",
       " (17, 85),\n",
       " (18, 85),\n",
       " (19, 85),\n",
       " (19, 84),\n",
       " (19, 83),\n",
       " (18, 83),\n",
       " (17, 83),\n",
       " (16, 83),\n",
       " (15, 83),\n",
       " (15, 82),\n",
       " (15, 81),\n",
       " (15, 80),\n",
       " (15, 79),\n",
       " (14, 79),\n",
       " (13, 79),\n",
       " (12, 79),\n",
       " (11, 79),\n",
       " (11, 80),\n",
       " (11, 81),\n",
       " (12, 81),\n",
       " (13, 81),\n",
       " (13, 82),\n",
       " (13, 83),\n",
       " (12, 83),\n",
       " (11, 83),\n",
       " (10, 83),\n",
       " (9, 83),\n",
       " (9, 84),\n",
       " (9, 85),\n",
       " (8, 85),\n",
       " (7, 85),\n",
       " (6, 85),\n",
       " (5, 85),\n",
       " (5, 86),\n",
       " (5, 87),\n",
       " (6, 87),\n",
       " (7, 87),\n",
       " (7, 88),\n",
       " (7, 89),\n",
       " (8, 89),\n",
       " (9, 89),\n",
       " (9, 90),\n",
       " (9, 91),\n",
       " (9, 92),\n",
       " (9, 93),\n",
       " (9, 94),\n",
       " (9, 95),\n",
       " (9, 96),\n",
       " (9, 97),\n",
       " (10, 97),\n",
       " (11, 97),\n",
       " (12, 97),\n",
       " (13, 97),\n",
       " (13, 98),\n",
       " (13, 99),\n",
       " (14, 99),\n",
       " (15, 99),\n",
       " (15, 98),\n",
       " (15, 97),\n",
       " (15, 96),\n",
       " (15, 95),\n",
       " (14, 95),\n",
       " (13, 95),\n",
       " (13, 94),\n",
       " (13, 93),\n",
       " (14, 93),\n",
       " (15, 93),\n",
       " (16, 93),\n",
       " (17, 93),\n",
       " (17, 94),\n",
       " (17, 95),\n",
       " (18, 95),\n",
       " (19, 95),\n",
       " (20, 95),\n",
       " (21, 95),\n",
       " (21, 94),\n",
       " (21, 93),\n",
       " (22, 93),\n",
       " (23, 93),\n",
       " (23, 94),\n",
       " (23, 95),\n",
       " (24, 95),\n",
       " (25, 95),\n",
       " (25, 94),\n",
       " (25, 93),\n",
       " (25, 92),\n",
       " (25, 91),\n",
       " (26, 91),\n",
       " (27, 91),\n",
       " (27, 92),\n",
       " (27, 93),\n",
       " (27, 94),\n",
       " (27, 95),\n",
       " (28, 95),\n",
       " (29, 95),\n",
       " (29, 94),\n",
       " (29, 93),\n",
       " (30, 93),\n",
       " (31, 93),\n",
       " (32, 93),\n",
       " (33, 93),\n",
       " (33, 92),\n",
       " (33, 91),\n",
       " (32, 91),\n",
       " (31, 91),\n",
       " (31, 90),\n",
       " (31, 89),\n",
       " (32, 89),\n",
       " (33, 89),\n",
       " (33, 88),\n",
       " (33, 87),\n",
       " (34, 87),\n",
       " (35, 87),\n",
       " (35, 86),\n",
       " (35, 85),\n",
       " (35, 84),\n",
       " (35, 83),\n",
       " (36, 83),\n",
       " (37, 83),\n",
       " (38, 83),\n",
       " (39, 83),\n",
       " (40, 83),\n",
       " (41, 83),\n",
       " (42, 83),\n",
       " (43, 83),\n",
       " (43, 84),\n",
       " (43, 85),\n",
       " (42, 85),\n",
       " (41, 85),\n",
       " (41, 86),\n",
       " (41, 87),\n",
       " (40, 87),\n",
       " (39, 87),\n",
       " (39, 88),\n",
       " (39, 89),\n",
       " (38, 89),\n",
       " (37, 89),\n",
       " (36, 89),\n",
       " (35, 89),\n",
       " (35, 90),\n",
       " (35, 91),\n",
       " (35, 92),\n",
       " (35, 93),\n",
       " (35, 94),\n",
       " (35, 95),\n",
       " (36, 95),\n",
       " (37, 95),\n",
       " (37, 94),\n",
       " (37, 93),\n",
       " (38, 93),\n",
       " (39, 93),\n",
       " (39, 92),\n",
       " (39, 91),\n",
       " (40, 91),\n",
       " (41, 91),\n",
       " (41, 90),\n",
       " (41, 89),\n",
       " (42, 89),\n",
       " (43, 89),\n",
       " (44, 89),\n",
       " (45, 89),\n",
       " (46, 89),\n",
       " (47, 89),\n",
       " (48, 89),\n",
       " (49, 89),\n",
       " (50, 89),\n",
       " (51, 89),\n",
       " (52, 89),\n",
       " (53, 89),\n",
       " (53, 90),\n",
       " (53, 91),\n",
       " (53, 92),\n",
       " (53, 93),\n",
       " (54, 93),\n",
       " (55, 93),\n",
       " (55, 92),\n",
       " (55, 91),\n",
       " (55, 90),\n",
       " (55, 89),\n",
       " (55, 88),\n",
       " (55, 87),\n",
       " (54, 87),\n",
       " (53, 87),\n",
       " (52, 87),\n",
       " (51, 87),\n",
       " (51, 86),\n",
       " (51, 85),\n",
       " (52, 85),\n",
       " (53, 85),\n",
       " (53, 84),\n",
       " (53, 83),\n",
       " (52, 83),\n",
       " (51, 83),\n",
       " (50, 83),\n",
       " (49, 83),\n",
       " (49, 84),\n",
       " (49, 85),\n",
       " (48, 85),\n",
       " (47, 85),\n",
       " (47, 86),\n",
       " (47, 87),\n",
       " (46, 87),\n",
       " (45, 87),\n",
       " (45, 86),\n",
       " (45, 85),\n",
       " (45, 84),\n",
       " (45, 83),\n",
       " (45, 82),\n",
       " (45, 81),\n",
       " (44, 81),\n",
       " (43, 81),\n",
       " (43, 80),\n",
       " (43, 79),\n",
       " (42, 79),\n",
       " (41, 79),\n",
       " (40, 79),\n",
       " (39, 79),\n",
       " (38, 79),\n",
       " (37, 79),\n",
       " (37, 78),\n",
       " (37, 77),\n",
       " (38, 77),\n",
       " (39, 77),\n",
       " (39, 76),\n",
       " (39, 75),\n",
       " (38, 75),\n",
       " (37, 75),\n",
       " (37, 74),\n",
       " (37, 73),\n",
       " (36, 73),\n",
       " (35, 73),\n",
       " (35, 74),\n",
       " (35, 75),\n",
       " (35, 76),\n",
       " (35, 77),\n",
       " (34, 77),\n",
       " (33, 77),\n",
       " (32, 77),\n",
       " (31, 77),\n",
       " (31, 76),\n",
       " (31, 75),\n",
       " (31, 74),\n",
       " (31, 73),\n",
       " (32, 73),\n",
       " (33, 73),\n",
       " (33, 72),\n",
       " (33, 71),\n",
       " (32, 71),\n",
       " (31, 71),\n",
       " (30, 71),\n",
       " (29, 71),\n",
       " (29, 70),\n",
       " (29, 69),\n",
       " (29, 68),\n",
       " (29, 67),\n",
       " (30, 67),\n",
       " (31, 67),\n",
       " (31, 66),\n",
       " (31, 65),\n",
       " (32, 65),\n",
       " (33, 65),\n",
       " (33, 66),\n",
       " (33, 67),\n",
       " (34, 67),\n",
       " (35, 67),\n",
       " (36, 67),\n",
       " (37, 67),\n",
       " (38, 67),\n",
       " (39, 67),\n",
       " (40, 67),\n",
       " (41, 67),\n",
       " (41, 68),\n",
       " (41, 69),\n",
       " (42, 69),\n",
       " (43, 69),\n",
       " (44, 69),\n",
       " (45, 69),\n",
       " (46, 69),\n",
       " (47, 69),\n",
       " (47, 70),\n",
       " (47, 71),\n",
       " (47, 72),\n",
       " (47, 73),\n",
       " (48, 73),\n",
       " (49, 73),\n",
       " (49, 72),\n",
       " (49, 71),\n",
       " (49, 70),\n",
       " (49, 69),\n",
       " (50, 69),\n",
       " (51, 69),\n",
       " (51, 68),\n",
       " (51, 67),\n",
       " (52, 67),\n",
       " (53, 67),\n",
       " (54, 67),\n",
       " (55, 67),\n",
       " (56, 67),\n",
       " (57, 67),\n",
       " (58, 67),\n",
       " (59, 67),\n",
       " (59, 66),\n",
       " (59, 65),\n",
       " (58, 65),\n",
       " (57, 65),\n",
       " (56, 65),\n",
       " (55, 65),\n",
       " (55, 64),\n",
       " (55, 63),\n",
       " (56, 63),\n",
       " (57, 63),\n",
       " (58, 63),\n",
       " (59, 63),\n",
       " (60, 63),\n",
       " (61, 63),\n",
       " (61, 64),\n",
       " (61, 65),\n",
       " (62, 65),\n",
       " (63, 65),\n",
       " (63, 66),\n",
       " (63, 67),\n",
       " (62, 67),\n",
       " (61, 67),\n",
       " (61, 68),\n",
       " (61, 69),\n",
       " (61, 70),\n",
       " (61, 71),\n",
       " (60, 71),\n",
       " (59, 71),\n",
       " (59, 70),\n",
       " (59, 69),\n",
       " (58, 69),\n",
       " (57, 69),\n",
       " (57, 70),\n",
       " (57, 71),\n",
       " (57, 72),\n",
       " (57, 73),\n",
       " (57, 74),\n",
       " (57, 75),\n",
       " (56, 75),\n",
       " (55, 75),\n",
       " (55, 76),\n",
       " (55, 77),\n",
       " (56, 77),\n",
       " (57, 77),\n",
       " (58, 77),\n",
       " (59, 77),\n",
       " (59, 78),\n",
       " (59, 79),\n",
       " (60, 79),\n",
       " (61, 79),\n",
       " (62, 79),\n",
       " (63, 79),\n",
       " (63, 78),\n",
       " (63, 77),\n",
       " (63, 76),\n",
       " (63, 75),\n",
       " (64, 75),\n",
       " (65, 75),\n",
       " (65, 76),\n",
       " (65, 77),\n",
       " (66, 77),\n",
       " (67, 77),\n",
       " (67, 78),\n",
       " (67, 79),\n",
       " (67, 80),\n",
       " (67, 81),\n",
       " (67, 82),\n",
       " ...]"
      ]
     },
     "execution_count": 35,
     "metadata": {},
     "output_type": "execute_result"
    }
   ],
   "source": [
    "### YOUR CODE HERE \\/\n",
    "\n",
    "### YOUR CODE HERE /\\"
   ]
  },
  {
   "cell_type": "markdown",
   "metadata": {
    "id": "ohQLtf7cN9nk"
   },
   "source": [
    "## Μερος 4"
   ]
  },
  {
   "cell_type": "markdown",
   "metadata": {
    "id": "eVNusFgt6wW7"
   },
   "source": [
    "Πρώτα, σας δίνεται αυτούσιος ο κώδικας του φαντάσματος. Το φάντασμα μας κυνηγάει τρέχοντας Α* με στόχο τη θέση μας."
   ]
  },
  {
   "cell_type": "code",
   "execution_count": null,
   "metadata": {
    "id": "X0xzy3gpOYAr"
   },
   "outputs": [],
   "source": [
    "class Agent:\n",
    "  def __init__(self,S,grid,color, name = \"\"):\n",
    "    self.agent_name = name\n",
    "    self.location = S\n",
    "    self.color=color\n",
    "    self.maze = grid\n",
    "    self.maze.agents.append(self)\n",
    "    self.maze.grid[S]=1\n",
    "    self.path=[]\n",
    "\n",
    "  def find_path(self,F):\n",
    "    c = lambda x,y: 1 \n",
    "    h = euclidean\n",
    "    pf = pathfinder(self.location, F, self.maze, c, h, visualize=False)\n",
    "    self.path = pf.path\n",
    "\n",
    "\n",
    "  def move(self):\n",
    "    if len(self.path)<1:\n",
    "      return\n",
    "    if self.location==self.path[0] and len(self.path)>1:\n",
    "      self.location=self.path[1]\n",
    "      self.path = self.path[2:]\n",
    "    else:\n",
    "      self.location=self.path[0]\n",
    "      self.path=self.path[1:]\n",
    "\n",
    "  def move_to(self, loc):\n",
    "    self.location = loc"
   ]
  },
  {
   "cell_type": "markdown",
   "metadata": {
    "id": "WwwV4mcF6-i7"
   },
   "source": [
    "Στη συνέχεια, δίνεται ο κώδικας για τον agent που τρέχει να ξεφύγει. Ο ABagent τρέχει ΑΒ με σκοπό να φτάσει στον τερματισμό χωρίς να τον πιάσει το φάντασμα. Καλείστε να συμπληρώσετε τα σημεία που παραλείπονται. Δώστε ιδιαίτερη προσοχή στην ευριστική συνάρτηση. Εξηγείστε τις επιλογές σας, όπως περιγράφεται παραπάνω."
   ]
  },
  {
   "cell_type": "code",
   "execution_count": null,
   "metadata": {
    "id": "BcdukaOPNXg1"
   },
   "outputs": [],
   "source": [
    "class ABagent:\n",
    "  def __init__(self, S, grid, color, name = \"\"):\n",
    "    self.agent_name = name\n",
    "    self.location = S\n",
    "    self.color=color\n",
    "    self.maze = grid\n",
    "    self.maze.agents.append(self)\n",
    "    self.maze.grid[S]=1\n",
    "    self.path=[]\n",
    "\n",
    "  def get_best_action(self, ghosts, depth = 3):\n",
    "      best_action = None\n",
    "      best_score = float(\"-inf\") #you can use this for debugging\n",
    "      alpha = float(\"-inf\")\n",
    "      beta = float(\"inf\")\n",
    "\n",
    "      best_score, best_action = self.alpha_beta_agent(self.maze, self.location, ghosts, depth, alpha, beta, True)\n",
    "\n",
    "      return best_action\n",
    "\n",
    "  def alpha_beta_agent(self, maze, agent_pos, ghost_positions, depth, alpha, beta, maximizing_player=True):\n",
    "      if depth == 0 or self.is_win(maze, agent_pos) or self.is_lose(agent_pos, ghost_positions):\n",
    "          # Return the heuristic value if we've reached the maximum depth or the game is over\n",
    "          return self.heuristic_AB(map, agent_pos, ghost_positions), agent_pos\n",
    "\n",
    "      if maximizing_player:\n",
    "          # Agent is the maximizing player\n",
    "          best_score = float(\"-inf\")\n",
    "          best_action = None\n",
    "          for successor_state in maze.adjacent_no_walls(agent_pos):\n",
    "              score, _ = self.alpha_beta_agent(maze, successor_state, ghost_positions, depth - 1, alpha, beta, False)\n",
    "              if score > best_score:\n",
    "                  best_score = score\n",
    "                  best_action = successor_state\n",
    "              alpha = max(alpha, score)\n",
    "              if beta <= alpha:\n",
    "                  break\n",
    "          return best_score, best_action\n",
    "      else:\n",
    "          # Ghosts are the minimizing players\n",
    "          ### YOUR CODE HERE \\/\n",
    "         \n",
    "          ### YOUR CODE HERE /\\\n",
    "\n",
    "  \n",
    "  def is_win(self, maze, agent):\n",
    "      ### YOUR CODE HERE \\/\n",
    "      return ???\n",
    "      ### YOUR CODE HERE /\\\n",
    "\n",
    "  def is_lose(self, agent, ghosts):\n",
    "      ### YOUR CODE HERE \\/\n",
    "      return ???\n",
    "      ### YOUR CODE HERE /\\\n",
    "\n",
    "  def heuristic_AB(self, map, agent_pos, ghost_positions):\n",
    "      ### YOUR CODE HERE \\/\n",
    "      \n",
    "      ### YOUR CODE HERE /\\\n",
    "\n",
    "  def move_to(self, loc):\n",
    "    self.location = loc"
   ]
  },
  {
   "cell_type": "markdown",
   "metadata": {
    "id": "ZcvY0Qt48F_A"
   },
   "source": [
    "Φτιάχνουμε αραιό χάρτη και ορίζουμε τους agents."
   ]
  },
  {
   "cell_type": "code",
   "execution_count": null,
   "metadata": {
    "colab": {
     "base_uri": "https://localhost:8080/",
     "height": 248
    },
    "id": "QKsDcfnOO2wv",
    "outputId": "3f394440-76d9-49fa-9596-98b36a863340"
   },
   "outputs": [
    {
     "data": {
      "image/png": "[encoded data removed]",
      "text/plain": [
       "<Figure size 432x288 with 1 Axes>"
      ]
     },
     "metadata": {},
     "output_type": "display_data"
    }
   ],
   "source": [
    "#create a sparse map with many paths, like the one below\n",
    "map = Maze(33, (1,1), (31,31), threshold=???)\n",
    "map.draw_map()"
   ]
  },
  {
   "cell_type": "code",
   "execution_count": null,
   "metadata": {
    "id": "-UwdSvWaO2ww"
   },
   "outputs": [],
   "source": [
    "x, y = np.random.choice(range(1, 31)), np.random.choice(range(1, 31))\n",
    "ghost = (Agent((x, y), map, [255,30,10], \"ghost\"))\n",
    "                  \n",
    "a1 = ABagent((2,1), map,[30,10,255], \"agentAB\")\n",
    "\n",
    "map.draw_map()"
   ]
  },
  {
   "cell_type": "markdown",
   "metadata": {
    "id": "kLq7O7mU8MWK"
   },
   "source": [
    "Παρακάτω, υλοποιείται το κυνηγητό. Ενδεικτικά ορίζουμε την παράμετρο depth του ΑΒ ίση με 5. \n",
    "\n",
    "Προσοχή: όπως σημειώνεται, μπορούμε να κάνουμε τους παίκτες να τρέχουν με διαφορετικές ταχύτητες. Είναι προτιμητέο να κρατήσετε την ταχύτητα ίση (όπως παρακάτω). Διαφορετικά, θα χρειαστεί να τροποποιήσετε τον αλγόριθμο ΑΒ.\n",
    "\n",
    "Μετρείστε το χρόνο εκτέλεσης και παρουσιάστε παραδείγματα. Γιατί ο αλγόριθμος σας δουλεύει;"
   ]
  },
  {
   "cell_type": "code",
   "execution_count": null,
   "metadata": {
    "id": "V2UHHj_7O2ww"
   },
   "outputs": [],
   "source": [
    "vis=visualization((1,1),(31,30))\n",
    "\n",
    "visited = [a1.location] #HINT: this might be helpful to you\n",
    "\n",
    "for i in range(100):\n",
    "  if a1.location==(31,31):\n",
    "    print(\"Win\")\n",
    "    break\n",
    "\n",
    "  if a1.location == ghost.location:\n",
    "    print(\"Lose\")\n",
    "    break\n",
    "\n",
    "  if i%1==0: #controls agent speed\n",
    "    best_move = a1.get_best_action(map, a1.location, [ghost.location], 5)\n",
    "    a1.move_to(best_move)\n",
    "    visited.append(a1.location)\n",
    "\n",
    "  if i%1==0: #controls ghost speed\n",
    "    ghost.find_path(a1.location)\n",
    "    ghost.move()\n",
    "\n",
    "  im = map.draw_map(return_image=True)\n",
    "  vis.images.append(im)"
   ]
  },
  {
   "cell_type": "code",
   "execution_count": null,
   "metadata": {
    "id": "BwWXUxSFZKLc"
   },
   "outputs": [],
   "source": [
    "vis.create_gif(fps=1)\n",
    "vis.show_gif()"
   ]
  },
  {
   "cell_type": "markdown",
   "metadata": {
    "id": "8o3F5sGT1YNm"
   },
   "source": [
    "## Μέρος 5: Bonus\n",
    "\n",
    "Υπενθυμίζεται ότι το output των κελιών που σχηματίζετε διατηρείται για περιορισμένο χρονικό διάστημα στο notebook, γι αυτό καλείστε να αποθηκεύσετε τη φωτογραφία (το πραγματοποιεί η συνάρτηση draw()) και να τη μεταφέρετε στο ανάλογο markdown."
   ]
  },
  {
   "cell_type": "code",
   "execution_count": null,
   "metadata": {
    "colab": {
     "base_uri": "https://localhost:8080/",
     "height": 398
    },
    "id": "k58iY7EPSa_m",
    "outputId": "5f0bd25f-61bf-456d-a0d4-6d986e745af7"
   },
   "outputs": [
    {
     "data": {
      "text/html": [
       "\n",
       "<canvas width=301 height=301></canvas>\n",
       "<br>\n",
       "\n",
       "<button id = \"start\" style=\"background-color: #008000\">Start</button>\n",
       "<button id = \"end\" style=\"background-color: #800000\">End</button>\n",
       "<button id = \"finish\">Finish</button>\n",
       "<script>\n",
       "\n",
       "var canvas = document.querySelector('canvas')\n",
       "var ctx = canvas.getContext('2d')\n",
       "\n",
       "for (var x = 0.5; x < 301; x += 20) {\n",
       "  ctx.moveTo(x, 0);\n",
       "  ctx.lineTo(x, 300);\n",
       "}\n",
       "\n",
       "for (var y = 0.5; y < 301; y += 20) {\n",
       "  ctx.moveTo(0, y);\n",
       "  ctx.lineTo(300, y);\n",
       "}\n",
       "\n",
       "ctx.strokeStyle = \"#000\";\n",
       "ctx.stroke();\n",
       "\n",
       "var button = document.getElementById('finish')\n",
       "var start_button = document.getElementById('start')\n",
       "var end_button = document.getElementById('end')\n",
       "\n",
       "\n",
       "start_button.onclick = ()=>{\n",
       "    ctx.fillStyle=\"#008000\";\n",
       "  }\n",
       "\n",
       "end_button.onclick = ()=>{\n",
       "    ctx.fillStyle=\"#800000\";\n",
       "  }\n",
       "   \n",
       "\n",
       "var mouse = {x: 0, y: 0}\n",
       "canvas.addEventListener('mousemove', function(e) {\n",
       "  mouse.x = e.pageX - this.offsetLeft\n",
       "  mouse.y = e.pageY - this.offsetTop\n",
       "})\n",
       "\n",
       "function getMousePos(canvas, evt) {\n",
       "        var rect = canvas.getBoundingClientRect();\n",
       "        return {\n",
       "          x: evt.x - rect.left,\n",
       "          y: evt.y - rect.top\n",
       "        };\n",
       "      }\n",
       "\n",
       "function getNearestSquare(position) {\n",
       "    var x = position.x;\n",
       "    var y = position.y;\n",
       "\n",
       "    if (x < 0 || y < 0) return null;\n",
       "    x = (Math.floor(x / 20) * 20) + 0.5\n",
       "    y = (Math.floor(y / 20) * 20) + 0.5\n",
       "    return {x: x, y: y};\n",
       "}\n",
       "\n",
       "function containsObject(obj, list) {\n",
       "    var i;\n",
       "    for (i = 0; i < list.length; i++) {\n",
       "        if (list[i].x === obj.x && list[i].y == obj.y) {\n",
       "            return i;\n",
       "        }\n",
       "    }\n",
       "    return -1;\n",
       "}\n",
       "\n",
       "borders = []\n",
       "\n",
       "canvas.onmousedown = ()=>{\n",
       "    var pos = getNearestSquare(getMousePos(canvas, mouse));\n",
       "    if (pos != null) {\n",
       "        index = containsObject(pos, borders)\n",
       "        if (index != -1){\n",
       "            borders.splice(index, 1)\n",
       "            ctx.clearRect(pos.x + 1, pos.y, 19, 19)\n",
       "        }\n",
       "        else{\n",
       "            ctx.fillRect(pos.x+1,pos.y+1,18,18);\n",
       "            borders.push(pos)\n",
       "        }\n",
       "        ctx.fillStyle=\"#000000\";\n",
       "    }\n",
       "}\n",
       "var data = new Promise(resolve=>{\n",
       "  button.onclick = ()=>{\n",
       "    resolve(canvas.toDataURL('image/png'))\n",
       "  }\n",
       "})\n",
       "</script>\n"
      ],
      "text/plain": [
       "<IPython.core.display.HTML object>"
      ]
     },
     "metadata": {},
     "output_type": "display_data"
    },
    {
     "name": "stdout",
     "output_type": "stream",
     "text": [
      "data:image/png;base64,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\n"
     ]
    },
    {
     "data": {
      "text/plain": [
       "5314"
      ]
     },
     "execution_count": 2,
     "metadata": {},
     "output_type": "execute_result"
    }
   ],
   "source": [
    "from IPython.display import HTML, Image\n",
    "from google.colab.output import eval_js\n",
    "from base64 import b64decode\n",
    "import PIL\n",
    "\n",
    "\n",
    "canvas_html = \"\"\"\n",
    "<canvas width=301 height=301></canvas>\n",
    "<br>\n",
    "\n",
    "<button id = \"start\" style=\"background-color: #008000\">Start</button>\n",
    "<button id = \"end\" style=\"background-color: #800000\">End</button>\n",
    "<button id = \"finish\">Finish</button>\n",
    "<script>\n",
    "\n",
    "var canvas = document.querySelector('canvas')\n",
    "var ctx = canvas.getContext('2d')\n",
    "\n",
    "for (var x = 0.5; x < 301; x += 20) {\n",
    "  ctx.moveTo(x, 0);\n",
    "  ctx.lineTo(x, 300);\n",
    "}\n",
    "\n",
    "for (var y = 0.5; y < 301; y += 20) {\n",
    "  ctx.moveTo(0, y);\n",
    "  ctx.lineTo(300, y);\n",
    "}\n",
    "\n",
    "ctx.strokeStyle = \"#000\";\n",
    "ctx.stroke();\n",
    "\n",
    "var button = document.getElementById('finish')\n",
    "var start_button = document.getElementById('start')\n",
    "var end_button = document.getElementById('end')\n",
    "\n",
    "\n",
    "start_button.onclick = ()=>{\n",
    "    ctx.fillStyle=\"#008000\";\n",
    "  }\n",
    "\n",
    "end_button.onclick = ()=>{\n",
    "    ctx.fillStyle=\"#800000\";\n",
    "  }\n",
    "   \n",
    "\n",
    "var mouse = {x: 0, y: 0}\n",
    "canvas.addEventListener('mousemove', function(e) {\n",
    "  mouse.x = e.pageX - this.offsetLeft\n",
    "  mouse.y = e.pageY - this.offsetTop\n",
    "})\n",
    "\n",
    "function getMousePos(canvas, evt) {\n",
    "        var rect = canvas.getBoundingClientRect();\n",
    "        return {\n",
    "          x: evt.x - rect.left,\n",
    "          y: evt.y - rect.top\n",
    "        };\n",
    "      }\n",
    "\n",
    "function getNearestSquare(position) {\n",
    "    var x = position.x;\n",
    "    var y = position.y;\n",
    "\n",
    "    if (x < 0 || y < 0) return null;\n",
    "    x = (Math.floor(x / 20) * 20) + 0.5\n",
    "    y = (Math.floor(y / 20) * 20) + 0.5\n",
    "    return {x: x, y: y};\n",
    "}\n",
    "\n",
    "function containsObject(obj, list) {\n",
    "    var i;\n",
    "    for (i = 0; i < list.length; i++) {\n",
    "        if (list[i].x === obj.x && list[i].y == obj.y) {\n",
    "            return i;\n",
    "        }\n",
    "    }\n",
    "    return -1;\n",
    "}\n",
    "\n",
    "borders = []\n",
    "\n",
    "canvas.onmousedown = ()=>{\n",
    "    var pos = getNearestSquare(getMousePos(canvas, mouse));\n",
    "    if (pos != null) {\n",
    "        index = containsObject(pos, borders)\n",
    "        if (index != -1){\n",
    "            borders.splice(index, 1)\n",
    "            ctx.clearRect(pos.x + 1, pos.y, 19, 19)\n",
    "        }\n",
    "        else{\n",
    "            ctx.fillRect(pos.x+1,pos.y+1,18,18);\n",
    "            borders.push(pos)\n",
    "        }\n",
    "        ctx.fillStyle=\"#000000\";\n",
    "    }\n",
    "}\n",
    "var data = new Promise(resolve=>{\n",
    "  button.onclick = ()=>{\n",
    "    resolve(canvas.toDataURL('image/png'))\n",
    "  }\n",
    "})\n",
    "</script>\n",
    "\"\"\"\n",
    "\n",
    "def draw(filename='drawing.png'):\n",
    "  display(HTML(canvas_html))\n",
    "  data = eval_js(\"data\")\n",
    "  print (data)\n",
    "  binary = b64decode(data.split(',')[1])\n",
    "  with open(filename, 'wb') as f:\n",
    "    f.write(binary)\n",
    "  return len(binary)\n",
    "\n",
    "\n",
    "draw()"
   ]
  },
  {
   "cell_type": "code",
   "execution_count": null,
   "metadata": {
    "id": "D8fS2Z9Xg4fS"
   },
   "outputs": [],
   "source": [
    "def find_points(image_array, pixels):\n",
    "    points = []\n",
    "    for grid_i, i in enumerate(range (10, image_array.shape[0]-10, 20)):\n",
    "        for grid_j, j in enumerate(range (10, image_array.shape[1]-10, 20)):\n",
    "            if np.array_equal(image_array[i][j], pixels):\n",
    "                points.append([grid_i+1, grid_j+1])\n",
    "    return points\n",
    "\n",
    "def draw_grid(fname='/content/drawing.png'):\n",
    "    N = 17\n",
    "    image = PIL.Image.open(fname)\n",
    "    image_array = np.round(np.array(image)/255)\n",
    "\n",
    "    start_x, start_y = find_points(image_array, [0,1,0,1])[0]\n",
    "    end_x, end_y = find_points(image_array, [1, 0, 0, 1])[0]\n",
    "    walls = find_points(image_array, [0, 0, 0, 1])\n",
    "    new_grid = Maze(N, (start_x, start_y), (end_x, end_y))\n",
    "\n",
    "    for i in range(N):\n",
    "        for j in range(N):\n",
    "            if [i, j] in walls:\n",
    "                new_grid.grid[i,j] = 0\n",
    "            else:\n",
    "                new_grid.grid[i, j] = 1\n",
    "\n",
    "    g = new_grid\n",
    "    g.draw_map()\n",
    "    return g\n",
    "\n",
    "g = draw_grid()"
   ]
  },
  {
   "cell_type": "code",
   "execution_count": null,
   "metadata": {
    "id": "O41WKWFvzXk7"
   },
   "outputs": [],
   "source": [
    "pf = pathfinder(g.S, g.F, g, lambda x, y: 1, lambda x, y: 0)\n",
    "g.draw_map(pf.get_path())"
   ]
  },
  {
   "cell_type": "code",
   "execution_count": null,
   "metadata": {
    "id": "WY8URi132WP2"
   },
   "outputs": [],
   "source": [
    "pf.vis.show_gif()"
   ]
  },
  {
   "cell_type": "markdown",
   "metadata": {
    "id": "tprNeqaPIdlW"
   },
   "source": [
    "### 5.1.  "
   ]
  },
  {
   "cell_type": "code",
   "execution_count": null,
   "metadata": {
    "id": "vF3u1cCeIo9H"
   },
   "outputs": [],
   "source": [
    "draw(filename='5.1.png')"
   ]
  },
  {
   "cell_type": "markdown",
   "metadata": {
    "id": "QjwsOf63Ir7V"
   },
   "source": [
    "#### Εισάγετε εδώ την φωτογραφία όπως αυτή προέκυψε από την εκτέλεση και αλληλεπίδραση με το παραπάνω κελί.  \n",
    "\n",
    "\n",
    "#### Εισάγετε εδώ το σχολιασμό σας    \n",
    "\n",
    "\n",
    "\n",
    "(Υπενθύμιση: για τον Hill Climbing δε χρειάζετει να τρέξετε το χάρτη που σχηματίσατε)"
   ]
  },
  {
   "cell_type": "markdown",
   "metadata": {
    "id": "CxyUgnTaIhHa"
   },
   "source": [
    "### 5.2.  "
   ]
  },
  {
   "cell_type": "code",
   "execution_count": null,
   "metadata": {
    "id": "ZT1RxaUJJBok"
   },
   "outputs": [],
   "source": [
    "draw(filename='5.2.png')"
   ]
  },
  {
   "cell_type": "markdown",
   "metadata": {
    "id": "2whQnhT7JGbR"
   },
   "source": [
    "#### Εισάγετε εδώ την φωτογραφία όπως αυτή προέκυψε από την εκτέλεση και αλληλεπίδραση με το παραπάνω κελί.  \n",
    "\n",
    "\n",
    "#### Εισάγετε εδώ το σχολιασμό σας "
   ]
  },
  {
   "cell_type": "code",
   "execution_count": null,
   "metadata": {
    "id": "mSCwE_MZ9Ewa"
   },
   "outputs": [],
   "source": [
    "g = draw_grid()"
   ]
  },
  {
   "cell_type": "code",
   "execution_count": null,
   "metadata": {
    "id": "a-M664IJ9GR-"
   },
   "outputs": [],
   "source": [
    "pf = pathfinder(g.S, g.F, g, c, h)   # change arguments to choose the appropriate pathfinding algorithm and cost/heuristic (if applicable)\n",
    "g.draw_map(pf.get_path())"
   ]
  },
  {
   "cell_type": "code",
   "execution_count": null,
   "metadata": {
    "id": "ZCb5j2Ul_uCo"
   },
   "outputs": [],
   "source": [
    "pf.vis.show_gif()"
   ]
  },
  {
   "cell_type": "markdown",
   "metadata": {
    "id": "rqqmkt3U_9q1"
   },
   "source": [
    "### 5.3."
   ]
  },
  {
   "cell_type": "code",
   "execution_count": null,
   "metadata": {
    "id": "UwqILZmBJjJ-"
   },
   "outputs": [],
   "source": [
    "draw(filename='5.3.png')"
   ]
  },
  {
   "cell_type": "markdown",
   "metadata": {
    "id": "-A3mBvHiJoQq"
   },
   "source": [
    "#### Εισάγετε εδώ την φωτογραφία όπως αυτή προέκυψε από την εκτέλεση και αλληλεπίδραση με το παραπάνω κελί.  \n",
    "\n",
    "\n",
    "#### Εισάγετε εδώ το σχολιασμό σας "
   ]
  },
  {
   "cell_type": "code",
   "execution_count": null,
   "metadata": {
    "id": "apabzO95ACov"
   },
   "outputs": [],
   "source": [
    "g = draw_grid()"
   ]
  },
  {
   "cell_type": "code",
   "execution_count": null,
   "metadata": {
    "id": "V1s5kFo5ADsb"
   },
   "outputs": [],
   "source": [
    "pf = pathfinder(g.S, g.F, g, c, h)   # change arguments to choose the appropriate pathfinding algorithm and cost/heuristic (if applicable)\n",
    "g.draw_map(pf.get_path())"
   ]
  },
  {
   "cell_type": "code",
   "execution_count": null,
   "metadata": {
    "id": "gdTJbRpmAD0X"
   },
   "outputs": [],
   "source": [
    "pf.vis.show_gif()"
   ]
  },
  {
   "cell_type": "markdown",
   "metadata": {
    "id": "x41xMK-VAGHp"
   },
   "source": [
    "### 5.4.  "
   ]
  },
  {
   "cell_type": "code",
   "execution_count": null,
   "metadata": {
    "id": "ndh3zuH4Jjyo"
   },
   "outputs": [],
   "source": [
    "draw(filename='5.4.png')"
   ]
  },
  {
   "cell_type": "markdown",
   "metadata": {
    "id": "UOEI0BCCJqFz"
   },
   "source": [
    "#### Εισάγετε εδώ την φωτογραφία όπως αυτή προέκυψε από την εκτέλεση και αλληλεπίδραση με το παραπάνω κελί.  \n",
    "\n",
    "\n",
    "#### Εισάγετε εδώ το σχολιασμό σας "
   ]
  },
  {
   "cell_type": "code",
   "execution_count": null,
   "metadata": {
    "id": "ixRxVVOwAK8K"
   },
   "outputs": [],
   "source": [
    "g = draw_grid()"
   ]
  },
  {
   "cell_type": "code",
   "execution_count": null,
   "metadata": {
    "id": "3Qrz7mawALUY"
   },
   "outputs": [],
   "source": [
    "pf = pathfinder(g.S, g.F, g, c, h)   # change arguments to choose the appropriate pathfinding algorithm and cost/heuristic (if applicable)\n",
    "g.draw_map(pf.get_path())"
   ]
  },
  {
   "cell_type": "code",
   "execution_count": null,
   "metadata": {
    "id": "5ze26bEaALcm"
   },
   "outputs": [],
   "source": [
    "pf.vis.show_gif()"
   ]
  },
  {
   "cell_type": "markdown",
   "metadata": {
    "id": "KcKfD8ylAOpb"
   },
   "source": [
    "### 5.5  "
   ]
  },
  {
   "cell_type": "code",
   "execution_count": null,
   "metadata": {
    "id": "tzK7U4PfJkIC"
   },
   "outputs": [],
   "source": [
    "draw(filename='5.5.png')"
   ]
  },
  {
   "cell_type": "markdown",
   "metadata": {
    "id": "gudt2lGiJrW0"
   },
   "source": [
    "#### Εισάγετε εδώ την φωτογραφία όπως αυτή προέκυψε από την εκτέλεση και αλληλεπίδραση με το παραπάνω κελί.  \n",
    "\n",
    "\n",
    "#### Εισάγετε εδώ το σχολιασμό σας "
   ]
  },
  {
   "cell_type": "code",
   "execution_count": null,
   "metadata": {
    "id": "zT3sxMjVARhy"
   },
   "outputs": [],
   "source": [
    "g = draw_grid()"
   ]
  },
  {
   "cell_type": "code",
   "execution_count": null,
   "metadata": {
    "id": "CVET3yUWATTB"
   },
   "outputs": [],
   "source": [
    "pf = pathfinder(g.S, g.F, g, c, h)   # change arguments to choose the appropriate pathfinding algorithm and cost/heuristic (if applicable)\n",
    "g.draw_map(pf.get_path())"
   ]
  },
  {
   "cell_type": "code",
   "execution_count": null,
   "metadata": {
    "id": "I6uV-Co-_qj4"
   },
   "outputs": [],
   "source": [
    "pf.vis.show_gif()"
   ]
  }
 ],
 "metadata": {
  "colab": {
   "provenance": []
  },
  "kernelspec": {
   "display_name": "Python 3 (ipykernel)",
   "language": "python",
   "name": "python3"
  },
  "language_info": {
   "codemirror_mode": {
    "name": "ipython",
    "version": 3
   },
   "file_extension": ".py",
   "mimetype": "text/x-python",
   "name": "python",
   "nbconvert_exporter": "python",
   "pygments_lexer": "ipython3",
   "version": "3.10.6"
  }
 },
 "nbformat": 4,
 "nbformat_minor": 1
}
